{
 "cells": [
  {
   "cell_type": "code",
   "execution_count": 1,
   "metadata": {},
   "outputs": [],
   "source": [
    "% run utils.ipynb"
   ]
  },
  {
   "cell_type": "code",
   "execution_count": 2,
   "metadata": {},
   "outputs": [],
   "source": [
    "import json"
   ]
  },
  {
   "cell_type": "code",
   "execution_count": 3,
   "metadata": {},
   "outputs": [],
   "source": [
    "def save(data, name):\n",
    "    with open('../data/out.{}.json'.format(name), 'w') as f:\n",
    "        json.dump(data, f, ensure_ascii=False)"
   ]
  },
  {
   "cell_type": "code",
   "execution_count": 4,
   "metadata": {},
   "outputs": [
    {
     "data": {
      "text/html": [
       "<div>\n",
       "<style scoped>\n",
       "    .dataframe tbody tr th:only-of-type {\n",
       "        vertical-align: middle;\n",
       "    }\n",
       "\n",
       "    .dataframe tbody tr th {\n",
       "        vertical-align: top;\n",
       "    }\n",
       "\n",
       "    .dataframe thead th {\n",
       "        text-align: right;\n",
       "    }\n",
       "</style>\n",
       "<table border=\"1\" class=\"dataframe\">\n",
       "  <thead>\n",
       "    <tr style=\"text-align: right;\">\n",
       "      <th></th>\n",
       "      <th>name</th>\n",
       "      <th>isocode</th>\n",
       "      <th>level</th>\n",
       "      <th>latitude</th>\n",
       "      <th>longitude</th>\n",
       "    </tr>\n",
       "  </thead>\n",
       "  <tbody>\n",
       "    <tr>\n",
       "      <th>0</th>\n",
       "      <td>Aalawa</td>\n",
       "      <td>NaN</td>\n",
       "      <td>dialect</td>\n",
       "      <td>NaN</td>\n",
       "      <td>NaN</td>\n",
       "    </tr>\n",
       "    <tr>\n",
       "      <th>1</th>\n",
       "      <td>Aantantara</td>\n",
       "      <td>NaN</td>\n",
       "      <td>dialect</td>\n",
       "      <td>NaN</td>\n",
       "      <td>NaN</td>\n",
       "    </tr>\n",
       "    <tr>\n",
       "      <th>2</th>\n",
       "      <td>Aari</td>\n",
       "      <td>aiw</td>\n",
       "      <td>language</td>\n",
       "      <td>5.95034</td>\n",
       "      <td>36.5721</td>\n",
       "    </tr>\n",
       "    <tr>\n",
       "      <th>3</th>\n",
       "      <td>Aariya</td>\n",
       "      <td>aay</td>\n",
       "      <td>language</td>\n",
       "      <td>NaN</td>\n",
       "      <td>NaN</td>\n",
       "    </tr>\n",
       "    <tr>\n",
       "      <th>4</th>\n",
       "      <td>Aasax</td>\n",
       "      <td>aas</td>\n",
       "      <td>language</td>\n",
       "      <td>-4.00679</td>\n",
       "      <td>36.8648</td>\n",
       "    </tr>\n",
       "  </tbody>\n",
       "</table>\n",
       "</div>"
      ],
      "text/plain": [
       "         name isocode     level  latitude  longitude\n",
       "0      Aalawa     NaN   dialect       NaN        NaN\n",
       "1  Aantantara     NaN   dialect       NaN        NaN\n",
       "2        Aari     aiw  language   5.95034    36.5721\n",
       "3      Aariya     aay  language       NaN        NaN\n",
       "4       Aasax     aas  language  -4.00679    36.8648"
      ]
     },
     "execution_count": 4,
     "metadata": {},
     "output_type": "execute_result"
    }
   ],
   "source": [
    "lang_locations = pd.read_csv('../data/languages_coordinates.csv')\n",
    "lang_locations.drop(['glottocode', 'macroarea'], 1, inplace=True)\n",
    "lang_locations.head()"
   ]
  },
  {
   "cell_type": "code",
   "execution_count": 5,
   "metadata": {},
   "outputs": [
    {
     "data": {
      "text/plain": [
       "(18975, 5)"
      ]
     },
     "execution_count": 5,
     "metadata": {},
     "output_type": "execute_result"
    }
   ],
   "source": [
    "lang_locations.shape"
   ]
  },
  {
   "cell_type": "code",
   "execution_count": 6,
   "metadata": {},
   "outputs": [
    {
     "data": {
      "text/html": [
       "<div>\n",
       "<style scoped>\n",
       "    .dataframe tbody tr th:only-of-type {\n",
       "        vertical-align: middle;\n",
       "    }\n",
       "\n",
       "    .dataframe tbody tr th {\n",
       "        vertical-align: top;\n",
       "    }\n",
       "\n",
       "    .dataframe thead th {\n",
       "        text-align: right;\n",
       "    }\n",
       "</style>\n",
       "<table border=\"1\" class=\"dataframe\">\n",
       "  <thead>\n",
       "    <tr style=\"text-align: right;\">\n",
       "      <th></th>\n",
       "      <th>src</th>\n",
       "      <th>rel</th>\n",
       "      <th>to</th>\n",
       "      <th>src_lang</th>\n",
       "      <th>src_word</th>\n",
       "      <th>to_lang</th>\n",
       "      <th>to_word</th>\n",
       "    </tr>\n",
       "  </thead>\n",
       "  <tbody>\n",
       "    <tr>\n",
       "      <th>0</th>\n",
       "      <td>aaq: Pawanobskewi</td>\n",
       "      <td>rel:etymological_origin_of</td>\n",
       "      <td>eng: Penobscot</td>\n",
       "      <td>aaq</td>\n",
       "      <td>pawanobskewi</td>\n",
       "      <td>eng</td>\n",
       "      <td>penobscot</td>\n",
       "    </tr>\n",
       "    <tr>\n",
       "      <th>1</th>\n",
       "      <td>aaq: senabe</td>\n",
       "      <td>rel:etymological_origin_of</td>\n",
       "      <td>eng: sannup</td>\n",
       "      <td>aaq</td>\n",
       "      <td>senabe</td>\n",
       "      <td>eng</td>\n",
       "      <td>sannup</td>\n",
       "    </tr>\n",
       "    <tr>\n",
       "      <th>2</th>\n",
       "      <td>abe: waniigan</td>\n",
       "      <td>rel:etymological_origin_of</td>\n",
       "      <td>eng: wangan</td>\n",
       "      <td>abe</td>\n",
       "      <td>waniigan</td>\n",
       "      <td>eng</td>\n",
       "      <td>wangan</td>\n",
       "    </tr>\n",
       "    <tr>\n",
       "      <th>3</th>\n",
       "      <td>abe: waniigan</td>\n",
       "      <td>rel:etymological_origin_of</td>\n",
       "      <td>eng: wannigan</td>\n",
       "      <td>abe</td>\n",
       "      <td>waniigan</td>\n",
       "      <td>eng</td>\n",
       "      <td>wannigan</td>\n",
       "    </tr>\n",
       "    <tr>\n",
       "      <th>5</th>\n",
       "      <td>adt: yuru</td>\n",
       "      <td>rel:etymological_origin_of</td>\n",
       "      <td>eng: euro</td>\n",
       "      <td>adt</td>\n",
       "      <td>yuru</td>\n",
       "      <td>eng</td>\n",
       "      <td>euro</td>\n",
       "    </tr>\n",
       "  </tbody>\n",
       "</table>\n",
       "</div>"
      ],
      "text/plain": [
       "                 src                         rel              to src_lang  \\\n",
       "0  aaq: Pawanobskewi  rel:etymological_origin_of  eng: Penobscot      aaq   \n",
       "1        aaq: senabe  rel:etymological_origin_of     eng: sannup      aaq   \n",
       "2      abe: waniigan  rel:etymological_origin_of     eng: wangan      abe   \n",
       "3      abe: waniigan  rel:etymological_origin_of   eng: wannigan      abe   \n",
       "5          adt: yuru  rel:etymological_origin_of       eng: euro      adt   \n",
       "\n",
       "       src_word to_lang    to_word  \n",
       "0  pawanobskewi     eng  penobscot  \n",
       "1        senabe     eng     sannup  \n",
       "2      waniigan     eng     wangan  \n",
       "3      waniigan     eng   wannigan  \n",
       "5          yuru     eng       euro  "
      ]
     },
     "execution_count": 6,
     "metadata": {},
     "output_type": "execute_result"
    }
   ],
   "source": [
    "relations = pd.read_csv('../data/etymwn.tsv', sep='\\t', header=None)\n",
    "relations.columns = ['src', 'rel', 'to']\n",
    "relations = relations.assign(\n",
    "    src_lang=relations.src.apply(lambda x: x.split(':')[0].strip()),\n",
    "    src_word=relations.src.apply(lambda x: x.split(':')[1].strip().lower()),\n",
    "    to_lang=relations.to.apply(lambda x: x.split(':')[0].strip()),\n",
    "    to_word=relations.to.apply(lambda x: x.split(':')[1].strip().lower()),\n",
    ")\n",
    "relations = relations[\n",
    "    ~relations.src_word.str.contains('-') & \n",
    "    ~relations.src_word.str.contains('\\[') & \n",
    "    ~relations.to_word.str.contains('-') &\n",
    "    ~relations.to_word.str.contains('\\[') &\n",
    "    ~relations.rel.isin(['rel:is_derived_from', 'rel:etymologically_related', 'derived'])\n",
    "]\n",
    "relations = relations[relations.to_word != relations.src_word]\n",
    "relations.drop_duplicates(inplace=True)\n",
    "relations.head()"
   ]
  },
  {
   "cell_type": "code",
   "execution_count": 7,
   "metadata": {},
   "outputs": [
    {
     "data": {
      "text/plain": [
       "(2819080, 7)"
      ]
     },
     "execution_count": 7,
     "metadata": {},
     "output_type": "execute_result"
    }
   ],
   "source": [
    "relations.shape"
   ]
  },
  {
   "cell_type": "code",
   "execution_count": 8,
   "metadata": {},
   "outputs": [
    {
     "data": {
      "image/png": "[encoded data removed]",
      "text/plain": [
       "<matplotlib.figure.Figure at 0x17d6dae80>"
      ]
     },
     "metadata": {},
     "output_type": "display_data"
    }
   ],
   "source": [
    "words_per_lang = relations.groupby(relations.to_lang).count().to_word\n",
    "words_per_lang.sort_values(ascending=False).plot(logy=True);"
   ]
  },
  {
   "cell_type": "code",
   "execution_count": 9,
   "metadata": {},
   "outputs": [
    {
     "data": {
      "text/plain": [
       "(181,)"
      ]
     },
     "execution_count": 9,
     "metadata": {},
     "output_type": "execute_result"
    }
   ],
   "source": [
    "min_word = 20\n",
    "langs = pd.Series(words_per_lang[words_per_lang > min_word].index)\n",
    "langs.sort_values()\n",
    "langs.shape"
   ]
  },
  {
   "cell_type": "code",
   "execution_count": 10,
   "metadata": {},
   "outputs": [
    {
     "data": {
      "text/plain": [
       "(153, 5)"
      ]
     },
     "execution_count": 10,
     "metadata": {},
     "output_type": "execute_result"
    }
   ],
   "source": [
    "lang_locations[lang_locations.isocode.isin(langs)].shape"
   ]
  },
  {
   "cell_type": "code",
   "execution_count": 11,
   "metadata": {},
   "outputs": [
    {
     "data": {
      "text/plain": [
       "61"
      ]
     },
     "execution_count": 11,
     "metadata": {},
     "output_type": "execute_result"
    }
   ],
   "source": [
    "macrolangs = pd.read_csv('../data/macrolanguages.tsv', sep='\\t')\n",
    "macrolangs.drop(['I_Status'], 1, inplace=True)\n",
    "macrolangs = macrolangs[~macrolangs.I_Id.isin(langs) & macrolangs.I_Id.isin(lang_locations.isocode)]\n",
    "macrolangs = dict(macrolangs.groupby(macrolangs.M_Id).first().reset_index().values)\n",
    "len(macrolangs)"
   ]
  },
  {
   "cell_type": "code",
   "execution_count": 12,
   "metadata": {},
   "outputs": [
    {
     "data": {
      "text/plain": [
       "(171,)"
      ]
     },
     "execution_count": 12,
     "metadata": {},
     "output_type": "execute_result"
    }
   ],
   "source": [
    "unknown_lang = ~langs.isin(lang_locations.isocode)\n",
    "langs[unknown_lang] = langs[unknown_lang].apply(macrolangs.get)\n",
    "langs = langs[langs.values != None]\n",
    "langs.shape"
   ]
  },
  {
   "cell_type": "code",
   "execution_count": 13,
   "metadata": {},
   "outputs": [
    {
     "data": {
      "text/plain": [
       "(27, 2)"
      ]
     },
     "execution_count": 13,
     "metadata": {},
     "output_type": "execute_result"
    }
   ],
   "source": [
    "lang_locations_patch = np.array([\n",
    "    [34.5, 41],\n",
    "    [37.1, -3.5],\n",
    "    [51, 0],\n",
    "    [40.3, 45],\n",
    "    [28, 84.5],\n",
    "    [52, 5],\n",
    "    [52, -1],\n",
    "    [48, 2],\n",
    "    [48.649, 11.4676],\n",
    "    [48.649, 13.4676],\n",
    "    [59.92, 10.71],\n",
    "    [52, 5],\n",
    "    [52, 0],\n",
    "    [47, 2],\n",
    "    [53.3, 6.3],\n",
    "    [47.649, 12.4676],\n",
    "    [53.2, -7.5],\n",
    "    [55.7, 12],\n",
    "    [32, 50],\n",
    "    [44.3, 4],\n",
    "    [56, 37],\n",
    "    [51.152, 12.692],\n",
    "    [40.4414, -1.11788],\n",
    "    [39.8667, 32.8667],\n",
    "    [52, -4],\n",
    "    [32, 50],\n",
    "    [52, 14]\n",
    "])\n",
    "lang_locations_patch.shape"
   ]
  },
  {
   "cell_type": "code",
   "execution_count": 14,
   "metadata": {},
   "outputs": [],
   "source": [
    "lang_locations.loc[lang_locations.isocode.isin(langs) & lang_locations.latitude.isnull(), ['latitude', 'longitude']] = lang_locations_patch"
   ]
  },
  {
   "cell_type": "code",
   "execution_count": 15,
   "metadata": {},
   "outputs": [
    {
     "data": {
      "text/html": [
       "<div>\n",
       "<style scoped>\n",
       "    .dataframe tbody tr th:only-of-type {\n",
       "        vertical-align: middle;\n",
       "    }\n",
       "\n",
       "    .dataframe tbody tr th {\n",
       "        vertical-align: top;\n",
       "    }\n",
       "\n",
       "    .dataframe thead th {\n",
       "        text-align: right;\n",
       "    }\n",
       "</style>\n",
       "<table border=\"1\" class=\"dataframe\">\n",
       "  <thead>\n",
       "    <tr style=\"text-align: right;\">\n",
       "      <th></th>\n",
       "      <th>name</th>\n",
       "      <th>isocode</th>\n",
       "      <th>level</th>\n",
       "      <th>latitude</th>\n",
       "      <th>longitude</th>\n",
       "    </tr>\n",
       "  </thead>\n",
       "  <tbody>\n",
       "  </tbody>\n",
       "</table>\n",
       "</div>"
      ],
      "text/plain": [
       "Empty DataFrame\n",
       "Columns: [name, isocode, level, latitude, longitude]\n",
       "Index: []"
      ]
     },
     "execution_count": 15,
     "metadata": {},
     "output_type": "execute_result"
    }
   ],
   "source": [
    "lang_locations[lang_locations.isocode.isin(langs) & lang_locations.latitude.isnull()]"
   ]
  },
  {
   "cell_type": "code",
   "execution_count": 16,
   "metadata": {},
   "outputs": [
    {
     "data": {
      "text/plain": [
       "(171, 5)"
      ]
     },
     "execution_count": 16,
     "metadata": {},
     "output_type": "execute_result"
    }
   ],
   "source": [
    "lang_locations = lang_locations[lang_locations.isocode.isin(langs)]\n",
    "lang_locations.shape"
   ]
  },
  {
   "cell_type": "code",
   "execution_count": 17,
   "metadata": {},
   "outputs": [
    {
     "data": {
      "text/plain": [
       "(2766291, 7)"
      ]
     },
     "execution_count": 17,
     "metadata": {},
     "output_type": "execute_result"
    }
   ],
   "source": [
    "relations = relations[relations.src_lang.isin(langs) & relations.to_lang.isin(langs)]\n",
    "relations.shape"
   ]
  },
  {
   "cell_type": "code",
   "execution_count": 18,
   "metadata": {},
   "outputs": [
    {
     "data": {
      "text/plain": [
       "2523340"
      ]
     },
     "execution_count": 18,
     "metadata": {},
     "output_type": "execute_result"
    }
   ],
   "source": [
    "words = set()\n",
    "words.update(relations.src_word)\n",
    "words.update(relations.to_word)\n",
    "len(words)"
   ]
  },
  {
   "cell_type": "code",
   "execution_count": 19,
   "metadata": {},
   "outputs": [
    {
     "data": {
      "text/plain": [
       "553613"
      ]
     },
     "execution_count": 19,
     "metadata": {},
     "output_type": "execute_result"
    }
   ],
   "source": [
    "word_lang = dict(relations.groupby(relations.src_word).src_lang.apply(lambda x: list(np.unique(x))).reset_index().values)\n",
    "len(word_lang)"
   ]
  },
  {
   "cell_type": "code",
   "execution_count": 20,
   "metadata": {},
   "outputs": [],
   "source": [
    "save(word_lang, 'word_langs')"
   ]
  },
  {
   "cell_type": "code",
   "execution_count": 21,
   "metadata": {},
   "outputs": [
    {
     "data": {
      "text/plain": [
       "to_lang\n",
       "afr     473\n",
       "aii      25\n",
       "akk      66\n",
       "ang    5001\n",
       "arg      76\n",
       "Name: to_word, dtype: int64"
      ]
     },
     "execution_count": 21,
     "metadata": {},
     "output_type": "execute_result"
    }
   ],
   "source": [
    "src_to_count = relations.groupby(relations.to_lang).to_word.count()\n",
    "src_to_count.head()"
   ]
  },
  {
   "cell_type": "code",
   "execution_count": 22,
   "metadata": {},
   "outputs": [
    {
     "data": {
      "text/plain": [
       "(2473,)"
      ]
     },
     "execution_count": 22,
     "metadata": {},
     "output_type": "execute_result"
    }
   ],
   "source": [
    "src_to = relations.groupby([relations.src_lang, relations.to_lang]).count().rel\n",
    "src_to.shape"
   ]
  },
  {
   "cell_type": "code",
   "execution_count": 23,
   "metadata": {},
   "outputs": [
    {
     "data": {
      "text/plain": [
       "src_lang  to_lang\n",
       "afr       afr        322\n",
       "          deu          3\n",
       "          eng         15\n",
       "          fra          1\n",
       "          nld        129\n",
       "Name: rel, dtype: int64"
      ]
     },
     "execution_count": 23,
     "metadata": {},
     "output_type": "execute_result"
    }
   ],
   "source": [
    "src_to.head()"
   ]
  },
  {
   "cell_type": "code",
   "execution_count": 24,
   "metadata": {},
   "outputs": [],
   "source": [
    "network_to = {}\n",
    "\n",
    "for (src, to), count in src_to.items():\n",
    "    if src not in network_to:\n",
    "        network_to[src] = []\n",
    "        \n",
    "    ratio = count / src_to_count.loc[to]\n",
    "    assert ratio <= 1\n",
    "    network_to[src].append([to, ratio])"
   ]
  },
  {
   "cell_type": "code",
   "execution_count": 25,
   "metadata": {},
   "outputs": [
    {
     "data": {
      "text/plain": [
       "src_lang\n",
       "afr     473\n",
       "aii      25\n",
       "akk      66\n",
       "ang    5001\n",
       "arg      76\n",
       "Name: src_word, dtype: int64"
      ]
     },
     "execution_count": 25,
     "metadata": {},
     "output_type": "execute_result"
    }
   ],
   "source": [
    "to_src_count = relations.groupby(relations.src_lang).src_word.count()\n",
    "to_src_count.head()"
   ]
  },
  {
   "cell_type": "code",
   "execution_count": 26,
   "metadata": {},
   "outputs": [
    {
     "data": {
      "text/plain": [
       "(2473,)"
      ]
     },
     "execution_count": 26,
     "metadata": {},
     "output_type": "execute_result"
    }
   ],
   "source": [
    "to_src = relations.groupby([relations.to_lang, relations.src_lang]).count().rel\n",
    "to_src.shape"
   ]
  },
  {
   "cell_type": "code",
   "execution_count": 27,
   "metadata": {},
   "outputs": [],
   "source": [
    "network_from = {}\n",
    "\n",
    "for (to, src), count in to_src.items():\n",
    "    if to not in network_from:\n",
    "        network_from[to] = []\n",
    "        \n",
    "    ratio = count / to_src_count.loc[src]\n",
    "    assert ratio <= 1\n",
    "    network_from[to].append([src, ratio])"
   ]
  },
  {
   "cell_type": "code",
   "execution_count": 28,
   "metadata": {},
   "outputs": [],
   "source": [
    "save({\n",
    "    'to': network_to,\n",
    "    'from': network_from,\n",
    "    'locations': lang_locations.to_dict('records')\n",
    "}, 'lang_network')    "
   ]
  },
  {
   "cell_type": "code",
   "execution_count": 29,
   "metadata": {},
   "outputs": [
    {
     "data": {
      "text/html": [
       "<div>\n",
       "<style scoped>\n",
       "    .dataframe tbody tr th:only-of-type {\n",
       "        vertical-align: middle;\n",
       "    }\n",
       "\n",
       "    .dataframe tbody tr th {\n",
       "        vertical-align: top;\n",
       "    }\n",
       "\n",
       "    .dataframe thead th {\n",
       "        text-align: right;\n",
       "    }\n",
       "</style>\n",
       "<table border=\"1\" class=\"dataframe\">\n",
       "  <thead>\n",
       "    <tr style=\"text-align: right;\">\n",
       "      <th></th>\n",
       "      <th>to</th>\n",
       "      <th>lang</th>\n",
       "      <th>word</th>\n",
       "    </tr>\n",
       "    <tr>\n",
       "      <th>src</th>\n",
       "      <th></th>\n",
       "      <th></th>\n",
       "      <th></th>\n",
       "    </tr>\n",
       "  </thead>\n",
       "  <tbody>\n",
       "    <tr>\n",
       "      <th>s/n9002814</th>\n",
       "      <td>t/ind/Rusia</td>\n",
       "      <td>ind</td>\n",
       "      <td>rusia</td>\n",
       "    </tr>\n",
       "    <tr>\n",
       "      <th>s/n9002814</th>\n",
       "      <td>t/hun/Oroszország</td>\n",
       "      <td>hun</td>\n",
       "      <td>oroszország</td>\n",
       "    </tr>\n",
       "    <tr>\n",
       "      <th>s/n9002814</th>\n",
       "      <td>t/rus/Россия</td>\n",
       "      <td>rus</td>\n",
       "      <td>россия</td>\n",
       "    </tr>\n",
       "    <tr>\n",
       "      <th>s/n9002814</th>\n",
       "      <td>t/ina/Russia</td>\n",
       "      <td>ina</td>\n",
       "      <td>russia</td>\n",
       "    </tr>\n",
       "    <tr>\n",
       "      <th>s/n9002814</th>\n",
       "      <td>t/ces/Rusko</td>\n",
       "      <td>ces</td>\n",
       "      <td>rusko</td>\n",
       "    </tr>\n",
       "  </tbody>\n",
       "</table>\n",
       "</div>"
      ],
      "text/plain": [
       "                           to lang         word\n",
       "src                                            \n",
       "s/n9002814        t/ind/Rusia  ind        rusia\n",
       "s/n9002814  t/hun/Oroszország  hun  oroszország\n",
       "s/n9002814       t/rus/Россия  rus       россия\n",
       "s/n9002814       t/ina/Russia  ina       russia\n",
       "s/n9002814        t/ces/Rusko  ces        rusko"
      ]
     },
     "execution_count": 29,
     "metadata": {},
     "output_type": "execute_result"
    }
   ],
   "source": [
    "mappings = pd.read_csv('../data/uwn.tsv', sep='\\t', header=None)\n",
    "mappings.columns = ['src', 'rel', 'to', 'weight']\n",
    "mappings = mappings[mappings.rel != 'rel:means']\n",
    "mappings = mappings.assign(\n",
    "    lang=mappings.to.apply(lambda x: x.split('/')[1].strip()),\n",
    "    word=mappings.to.apply(lambda x: x.split('/')[2].strip().lower()),\n",
    ")\n",
    "mappings = mappings[mappings.word.isin(words) & mappings.lang.isin(langs)]\n",
    "mappings.drop(['weight', 'rel'], axis=1, inplace=True)\n",
    "mappings.set_index('src', inplace=True)\n",
    "mappings.head()"
   ]
  },
  {
   "cell_type": "code",
   "execution_count": 30,
   "metadata": {},
   "outputs": [
    {
     "data": {
      "text/plain": [
       "(586046, 3)"
      ]
     },
     "execution_count": 30,
     "metadata": {},
     "output_type": "execute_result"
    }
   ],
   "source": [
    "mappings.shape"
   ]
  },
  {
   "cell_type": "code",
   "execution_count": 31,
   "metadata": {},
   "outputs": [
    {
     "data": {
      "text/plain": [
       "src\n",
       "iso3166/AD    [ces:andorra, nno:andorra, vec:andora, ita:and...\n",
       "iso3166/AE    [nld:verenigde arabische emiraten, fra:émirats...\n",
       "iso3166/AF    [bos:afganistan, nob:afghanistan, ces:afgánist...\n",
       "iso3166/AG    [rus:антигуа и барбуда, ukr:антигуа и барбуда,...\n",
       "iso3166/AI    [dsb:anguilla, oci:anguilla, slk:anguilla, pol...\n",
       "dtype: object"
      ]
     },
     "execution_count": 31,
     "metadata": {},
     "output_type": "execute_result"
    }
   ],
   "source": [
    "clusters = mappings.groupby(mappings.index).apply(lambda x: list(x.lang.str.cat(':' + x.word)))\n",
    "clusters.head()"
   ]
  },
  {
   "cell_type": "code",
   "execution_count": 32,
   "metadata": {},
   "outputs": [
    {
     "name": "stderr",
     "output_type": "stream",
     "text": [
      "65062it [00:03, 18304.98it/s]\n"
     ]
    }
   ],
   "source": [
    "meanings = {}\n",
    "\n",
    "for _, cluster in tqdm(clusters.items()):\n",
    "        \n",
    "    for lang_word in cluster:\n",
    "        \n",
    "        if lang_word not in meanings:\n",
    "            meanings[lang_word] = set()\n",
    "            \n",
    "        meanings[lang_word].update(cluster)\n",
    "        meanings[lang_word].remove(lang_word)\n",
    "        \n",
    "for key, values in meanings.items():\n",
    "    meanings[key] = list(values)"
   ]
  },
  {
   "cell_type": "code",
   "execution_count": 33,
   "metadata": {},
   "outputs": [
    {
     "data": {
      "text/plain": [
       "399608"
      ]
     },
     "execution_count": 33,
     "metadata": {},
     "output_type": "execute_result"
    }
   ],
   "source": [
    "len(meanings)"
   ]
  },
  {
   "cell_type": "code",
   "execution_count": 34,
   "metadata": {},
   "outputs": [],
   "source": [
    "save(meanings, 'word_meanings')"
   ]
  },
  {
   "cell_type": "code",
   "execution_count": 35,
   "metadata": {},
   "outputs": [
    {
     "data": {
      "text/plain": [
       "to\n",
       "afr:aalmoesenier         afr:aalmoes,nld:aalmoezenier,\n",
       "afr:aalmoeseniershuis                afr:aalmoesenier,\n",
       "afr:aalwee                                   nld:aloë,\n",
       "afr:aalwees                                afr:aalwee,\n",
       "afr:aalwyne                                afr:aalwyn,\n",
       "Name: src, dtype: object"
      ]
     },
     "execution_count": 35,
     "metadata": {},
     "output_type": "execute_result"
    }
   ],
   "source": [
    "parents_rel = relations[relations.rel != 'rel:etymology']\n",
    "parents = pd.DataFrame(dict(\n",
    "     src=parents_rel.src_lang + ':' + parents_rel.src_word + ',',\n",
    "    to=parents_rel.to_lang + ':' + parents_rel.to_word,\n",
    ")).groupby('to').src.sum()\n",
    "parents.head()"
   ]
  },
  {
   "cell_type": "code",
   "execution_count": 36,
   "metadata": {},
   "outputs": [
    {
     "data": {
      "text/plain": [
       "2350997"
      ]
     },
     "execution_count": 36,
     "metadata": {},
     "output_type": "execute_result"
    }
   ],
   "source": [
    "parents_map = dict(parents.apply(lambda x: x.split(',')[:-1]).reset_index().values)\n",
    "len(parents_map)"
   ]
  },
  {
   "cell_type": "code",
   "execution_count": 37,
   "metadata": {},
   "outputs": [],
   "source": [
    "save(parents_map, 'word_parents')"
   ]
  },
  {
   "cell_type": "code",
   "execution_count": 38,
   "metadata": {},
   "outputs": [],
   "source": [
    "def recurse(lang_word):\n",
    "    ps = parents_map.get(lang_word, [])\n",
    "    return [(p, recurse(p)) for p in ps]"
   ]
  },
  {
   "cell_type": "code",
   "execution_count": 39,
   "metadata": {},
   "outputs": [
    {
     "data": {
      "text/plain": [
       "[('deu:maus', [('goh:mus', [])]),\n",
       " ('gml:vledermus', [('gml:mus', [])]),\n",
       " ('goh:fledarmus', [])]"
      ]
     },
     "execution_count": 39,
     "metadata": {},
     "output_type": "execute_result"
    }
   ],
   "source": [
    "recurse('deu:fledermaus')"
   ]
  }
 ],
 "metadata": {
  "kernelspec": {
   "display_name": "Python 3",
   "language": "python",
   "name": "python3"
  },
  "language_info": {
   "codemirror_mode": {
    "name": "ipython",
    "version": 3
   },
   "file_extension": ".py",
   "mimetype": "text/x-python",
   "name": "python",
   "nbconvert_exporter": "python",
   "pygments_lexer": "ipython3",
   "version": "3.6.3"
  },
  "varInspector": {
   "cols": {
    "lenName": 16,
    "lenType": 16,
    "lenVar": 40
   },
   "kernels_config": {
    "python": {
     "delete_cmd_postfix": "",
     "delete_cmd_prefix": "del ",
     "library": "var_list.py",
     "varRefreshCmd": "print(var_dic_list())"
    },
    "r": {
     "delete_cmd_postfix": ") ",
     "delete_cmd_prefix": "rm(",
     "library": "var_list.r",
     "varRefreshCmd": "cat(var_dic_list()) "
    }
   },
   "types_to_exclude": [
    "module",
    "function",
    "builtin_function_or_method",
    "instance",
    "_Feature"
   ],
   "window_display": false
  }
 },
 "nbformat": 4,
 "nbformat_minor": 2
}
