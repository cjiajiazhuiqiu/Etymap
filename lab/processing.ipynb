{
 "cells": [
  {
   "cell_type": "code",
   "execution_count": 1,
   "metadata": {},
   "outputs": [],
   "source": [
    "% run utils.ipynb"
   ]
  },
  {
   "cell_type": "code",
   "execution_count": 2,
   "metadata": {},
   "outputs": [],
   "source": [
    "import json"
   ]
  },
  {
   "cell_type": "code",
   "execution_count": 3,
   "metadata": {},
   "outputs": [],
   "source": [
    "def save(data, name):\n",
    "    with open('../data/out.{}.json'.format(name), 'w') as f:\n",
    "        json.dump(data, f, ensure_ascii=False)"
   ]
  },
  {
   "cell_type": "code",
   "execution_count": 4,
   "metadata": {},
   "outputs": [
    {
     "data": {
      "text/html": [
       "<div>\n",
       "<style scoped>\n",
       "    .dataframe tbody tr th:only-of-type {\n",
       "        vertical-align: middle;\n",
       "    }\n",
       "\n",
       "    .dataframe tbody tr th {\n",
       "        vertical-align: top;\n",
       "    }\n",
       "\n",
       "    .dataframe thead th {\n",
       "        text-align: right;\n",
       "    }\n",
       "</style>\n",
       "<table border=\"1\" class=\"dataframe\">\n",
       "  <thead>\n",
       "    <tr style=\"text-align: right;\">\n",
       "      <th></th>\n",
       "      <th>name</th>\n",
       "      <th>isocode</th>\n",
       "      <th>level</th>\n",
       "      <th>latitude</th>\n",
       "      <th>longitude</th>\n",
       "    </tr>\n",
       "  </thead>\n",
       "  <tbody>\n",
       "    <tr>\n",
       "      <th>0</th>\n",
       "      <td>Aalawa</td>\n",
       "      <td>NaN</td>\n",
       "      <td>dialect</td>\n",
       "      <td>NaN</td>\n",
       "      <td>NaN</td>\n",
       "    </tr>\n",
       "    <tr>\n",
       "      <th>1</th>\n",
       "      <td>Aantantara</td>\n",
       "      <td>NaN</td>\n",
       "      <td>dialect</td>\n",
       "      <td>NaN</td>\n",
       "      <td>NaN</td>\n",
       "    </tr>\n",
       "    <tr>\n",
       "      <th>2</th>\n",
       "      <td>Aari</td>\n",
       "      <td>aiw</td>\n",
       "      <td>language</td>\n",
       "      <td>5.95034</td>\n",
       "      <td>36.5721</td>\n",
       "    </tr>\n",
       "    <tr>\n",
       "      <th>3</th>\n",
       "      <td>Aariya</td>\n",
       "      <td>aay</td>\n",
       "      <td>language</td>\n",
       "      <td>NaN</td>\n",
       "      <td>NaN</td>\n",
       "    </tr>\n",
       "    <tr>\n",
       "      <th>4</th>\n",
       "      <td>Aasax</td>\n",
       "      <td>aas</td>\n",
       "      <td>language</td>\n",
       "      <td>-4.00679</td>\n",
       "      <td>36.8648</td>\n",
       "    </tr>\n",
       "  </tbody>\n",
       "</table>\n",
       "</div>"
      ],
      "text/plain": [
       "         name isocode     level  latitude  longitude\n",
       "0      Aalawa     NaN   dialect       NaN        NaN\n",
       "1  Aantantara     NaN   dialect       NaN        NaN\n",
       "2        Aari     aiw  language   5.95034    36.5721\n",
       "3      Aariya     aay  language       NaN        NaN\n",
       "4       Aasax     aas  language  -4.00679    36.8648"
      ]
     },
     "execution_count": 4,
     "metadata": {},
     "output_type": "execute_result"
    }
   ],
   "source": [
    "lang_locations = pd.read_csv('../data/languages_coordinates.csv')\n",
    "lang_locations.drop(['glottocode', 'macroarea'], 1, inplace=True)\n",
    "lang_locations.head()"
   ]
  },
  {
   "cell_type": "code",
   "execution_count": 5,
   "metadata": {},
   "outputs": [
    {
     "data": {
      "text/plain": [
       "(18975, 5)"
      ]
     },
     "execution_count": 5,
     "metadata": {},
     "output_type": "execute_result"
    }
   ],
   "source": [
    "lang_locations.shape"
   ]
  },
  {
   "cell_type": "code",
   "execution_count": 6,
   "metadata": {},
   "outputs": [
    {
     "data": {
      "text/html": [
       "<div>\n",
       "<style scoped>\n",
       "    .dataframe tbody tr th:only-of-type {\n",
       "        vertical-align: middle;\n",
       "    }\n",
       "\n",
       "    .dataframe tbody tr th {\n",
       "        vertical-align: top;\n",
       "    }\n",
       "\n",
       "    .dataframe thead th {\n",
       "        text-align: right;\n",
       "    }\n",
       "</style>\n",
       "<table border=\"1\" class=\"dataframe\">\n",
       "  <thead>\n",
       "    <tr style=\"text-align: right;\">\n",
       "      <th></th>\n",
       "      <th>src</th>\n",
       "      <th>rel</th>\n",
       "      <th>to</th>\n",
       "      <th>src_lang</th>\n",
       "      <th>src_word</th>\n",
       "      <th>to_lang</th>\n",
       "      <th>to_word</th>\n",
       "    </tr>\n",
       "  </thead>\n",
       "  <tbody>\n",
       "    <tr>\n",
       "      <th>0</th>\n",
       "      <td>aaq: Pawanobskewi</td>\n",
       "      <td>rel:etymological_origin_of</td>\n",
       "      <td>eng: Penobscot</td>\n",
       "      <td>aaq</td>\n",
       "      <td>pawanobskewi</td>\n",
       "      <td>eng</td>\n",
       "      <td>penobscot</td>\n",
       "    </tr>\n",
       "    <tr>\n",
       "      <th>1</th>\n",
       "      <td>aaq: senabe</td>\n",
       "      <td>rel:etymological_origin_of</td>\n",
       "      <td>eng: sannup</td>\n",
       "      <td>aaq</td>\n",
       "      <td>senabe</td>\n",
       "      <td>eng</td>\n",
       "      <td>sannup</td>\n",
       "    </tr>\n",
       "    <tr>\n",
       "      <th>2</th>\n",
       "      <td>abe: waniigan</td>\n",
       "      <td>rel:etymological_origin_of</td>\n",
       "      <td>eng: wangan</td>\n",
       "      <td>abe</td>\n",
       "      <td>waniigan</td>\n",
       "      <td>eng</td>\n",
       "      <td>wangan</td>\n",
       "    </tr>\n",
       "    <tr>\n",
       "      <th>3</th>\n",
       "      <td>abe: waniigan</td>\n",
       "      <td>rel:etymological_origin_of</td>\n",
       "      <td>eng: wannigan</td>\n",
       "      <td>abe</td>\n",
       "      <td>waniigan</td>\n",
       "      <td>eng</td>\n",
       "      <td>wannigan</td>\n",
       "    </tr>\n",
       "    <tr>\n",
       "      <th>5</th>\n",
       "      <td>adt: yuru</td>\n",
       "      <td>rel:etymological_origin_of</td>\n",
       "      <td>eng: euro</td>\n",
       "      <td>adt</td>\n",
       "      <td>yuru</td>\n",
       "      <td>eng</td>\n",
       "      <td>euro</td>\n",
       "    </tr>\n",
       "  </tbody>\n",
       "</table>\n",
       "</div>"
      ],
      "text/plain": [
       "                 src                         rel              to src_lang  \\\n",
       "0  aaq: Pawanobskewi  rel:etymological_origin_of  eng: Penobscot      aaq   \n",
       "1        aaq: senabe  rel:etymological_origin_of     eng: sannup      aaq   \n",
       "2      abe: waniigan  rel:etymological_origin_of     eng: wangan      abe   \n",
       "3      abe: waniigan  rel:etymological_origin_of   eng: wannigan      abe   \n",
       "5          adt: yuru  rel:etymological_origin_of       eng: euro      adt   \n",
       "\n",
       "       src_word to_lang    to_word  \n",
       "0  pawanobskewi     eng  penobscot  \n",
       "1        senabe     eng     sannup  \n",
       "2      waniigan     eng     wangan  \n",
       "3      waniigan     eng   wannigan  \n",
       "5          yuru     eng       euro  "
      ]
     },
     "execution_count": 6,
     "metadata": {},
     "output_type": "execute_result"
    }
   ],
   "source": [
    "relations = pd.read_csv('../data/etymwn.tsv', sep='\\t', header=None)\n",
    "relations.columns = ['src', 'rel', 'to']\n",
    "relations = relations[\n",
    "    ~relations.src.apply(lambda x: len(x.split(' ')) > 4) &\n",
    "    ~relations.to.apply(lambda x: len(x.split(' ')) > 4) &\n",
    "    ~relations.src.apply(lambda x: len(x.split(':')) > 2) &\n",
    "    ~relations.to.apply(lambda x: len(x.split(':')) > 2) &\n",
    "    ~relations.src.str.contains('-') & \n",
    "    ~relations.src.str.contains('\\[') & \n",
    "    ~relations.to.str.contains('-') &\n",
    "    ~relations.to.str.contains('\\[') &\n",
    "    ~relations.rel.isin(['rel:is_derived_from', 'rel:etymologically_related', 'derived'])\n",
    "]\n",
    "relations = relations.assign(\n",
    "    src_lang=relations.src.apply(lambda x: x.split(':')[0].strip()),\n",
    "    src_word=relations.src.apply(lambda x: x.split(':')[1].strip().lower()),\n",
    "    to_lang=relations.to.apply(lambda x: x.split(':')[0].strip()),\n",
    "    to_word=relations.to.apply(lambda x: x.split(':')[1].strip().lower()),\n",
    ")\n",
    "relations = relations[relations.to_word != relations.src_word]\n",
    "relations.drop_duplicates(inplace=True)\n",
    "relations.head()"
   ]
  },
  {
   "cell_type": "code",
   "execution_count": 7,
   "metadata": {},
   "outputs": [
    {
     "data": {
      "text/plain": [
       "(2810986, 7)"
      ]
     },
     "execution_count": 7,
     "metadata": {},
     "output_type": "execute_result"
    }
   ],
   "source": [
    "relations.shape"
   ]
  },
  {
   "cell_type": "code",
   "execution_count": 8,
   "metadata": {},
   "outputs": [
    {
     "data": {
      "image/png": "[encoded data removed]",
      "text/plain": [
       "<matplotlib.figure.Figure at 0x10b08a7f0>"
      ]
     },
     "metadata": {},
     "output_type": "display_data"
    }
   ],
   "source": [
    "words_per_lang = relations.groupby(relations.to_lang).count().to_word\n",
    "words_per_lang.sort_values(ascending=False).plot(logy=True);"
   ]
  },
  {
   "cell_type": "code",
   "execution_count": 9,
   "metadata": {},
   "outputs": [
    {
     "data": {
      "text/plain": [
       "(181,)"
      ]
     },
     "execution_count": 9,
     "metadata": {},
     "output_type": "execute_result"
    }
   ],
   "source": [
    "min_word = 20\n",
    "langs = pd.Series(words_per_lang[words_per_lang > min_word].index)\n",
    "langs.sort_values()\n",
    "langs.shape"
   ]
  },
  {
   "cell_type": "code",
   "execution_count": 10,
   "metadata": {},
   "outputs": [
    {
     "data": {
      "text/plain": [
       "(153, 5)"
      ]
     },
     "execution_count": 10,
     "metadata": {},
     "output_type": "execute_result"
    }
   ],
   "source": [
    "lang_locations[lang_locations.isocode.isin(langs)].shape"
   ]
  },
  {
   "cell_type": "code",
   "execution_count": 11,
   "metadata": {},
   "outputs": [
    {
     "data": {
      "text/plain": [
       "61"
      ]
     },
     "execution_count": 11,
     "metadata": {},
     "output_type": "execute_result"
    }
   ],
   "source": [
    "macrolangs = pd.read_csv('../data/macrolanguages.tsv', sep='\\t')\n",
    "macrolangs.drop(['I_Status'], 1, inplace=True)\n",
    "macrolangs = macrolangs[~macrolangs.I_Id.isin(langs) & macrolangs.I_Id.isin(lang_locations.isocode)]\n",
    "macrolangs = dict(macrolangs.groupby(macrolangs.M_Id).first().reset_index().values)\n",
    "len(macrolangs)"
   ]
  },
  {
   "cell_type": "code",
   "execution_count": 12,
   "metadata": {},
   "outputs": [
    {
     "data": {
      "text/plain": [
       "(171,)"
      ]
     },
     "execution_count": 12,
     "metadata": {},
     "output_type": "execute_result"
    }
   ],
   "source": [
    "unknown_lang = ~langs.isin(lang_locations.isocode)\n",
    "langs[unknown_lang] = langs[unknown_lang].apply(macrolangs.get)\n",
    "langs = langs[langs.values != None]\n",
    "langs.shape"
   ]
  },
  {
   "cell_type": "code",
   "execution_count": 13,
   "metadata": {},
   "outputs": [
    {
     "data": {
      "text/plain": [
       "(27, 2)"
      ]
     },
     "execution_count": 13,
     "metadata": {},
     "output_type": "execute_result"
    }
   ],
   "source": [
    "lang_locations_patch = np.array([\n",
    "    [34.5, 41],\n",
    "    [37.1, -3.5],\n",
    "    [51, 0],\n",
    "    [40.3, 45],\n",
    "    [28, 84.5],\n",
    "    [52, 5],\n",
    "    [52, -1],\n",
    "    [48, 2],\n",
    "    [48.649, 11.4676],\n",
    "    [48.649, 13.4676],\n",
    "    [59.92, 10.71],\n",
    "    [52, 5],\n",
    "    [52, 0],\n",
    "    [47, 2],\n",
    "    [53.3, 6.3],\n",
    "    [47.649, 12.4676],\n",
    "    [53.2, -7.5],\n",
    "    [55.7, 12],\n",
    "    [32, 50],\n",
    "    [44.3, 4],\n",
    "    [56, 37],\n",
    "    [51.152, 12.692],\n",
    "    [40.4414, -1.11788],\n",
    "    [39.8667, 32.8667],\n",
    "    [52, -4],\n",
    "    [32, 50],\n",
    "    [52, 14]\n",
    "])\n",
    "lang_locations_patch.shape"
   ]
  },
  {
   "cell_type": "code",
   "execution_count": 14,
   "metadata": {},
   "outputs": [],
   "source": [
    "lang_locations.loc[lang_locations.isocode.isin(langs) & lang_locations.latitude.isnull(), ['latitude', 'longitude']] = lang_locations_patch"
   ]
  },
  {
   "cell_type": "code",
   "execution_count": 15,
   "metadata": {},
   "outputs": [
    {
     "data": {
      "text/html": [
       "<div>\n",
       "<style scoped>\n",
       "    .dataframe tbody tr th:only-of-type {\n",
       "        vertical-align: middle;\n",
       "    }\n",
       "\n",
       "    .dataframe tbody tr th {\n",
       "        vertical-align: top;\n",
       "    }\n",
       "\n",
       "    .dataframe thead th {\n",
       "        text-align: right;\n",
       "    }\n",
       "</style>\n",
       "<table border=\"1\" class=\"dataframe\">\n",
       "  <thead>\n",
       "    <tr style=\"text-align: right;\">\n",
       "      <th></th>\n",
       "      <th>name</th>\n",
       "      <th>isocode</th>\n",
       "      <th>level</th>\n",
       "      <th>latitude</th>\n",
       "      <th>longitude</th>\n",
       "    </tr>\n",
       "  </thead>\n",
       "  <tbody>\n",
       "  </tbody>\n",
       "</table>\n",
       "</div>"
      ],
      "text/plain": [
       "Empty DataFrame\n",
       "Columns: [name, isocode, level, latitude, longitude]\n",
       "Index: []"
      ]
     },
     "execution_count": 15,
     "metadata": {},
     "output_type": "execute_result"
    }
   ],
   "source": [
    "lang_locations[lang_locations.isocode.isin(langs) & lang_locations.latitude.isnull()]"
   ]
  },
  {
   "cell_type": "code",
   "execution_count": 16,
   "metadata": {},
   "outputs": [
    {
     "data": {
      "text/plain": [
       "(171, 5)"
      ]
     },
     "execution_count": 16,
     "metadata": {},
     "output_type": "execute_result"
    }
   ],
   "source": [
    "lang_locations = lang_locations[lang_locations.isocode.isin(langs)]\n",
    "lang_locations.shape"
   ]
  },
  {
   "cell_type": "code",
   "execution_count": 17,
   "metadata": {},
   "outputs": [
    {
     "data": {
      "text/plain": [
       "(2758331, 7)"
      ]
     },
     "execution_count": 17,
     "metadata": {},
     "output_type": "execute_result"
    }
   ],
   "source": [
    "relations = relations[relations.src_lang.isin(langs) & relations.to_lang.isin(langs)]\n",
    "relations.shape"
   ]
  },
  {
   "cell_type": "code",
   "execution_count": 18,
   "metadata": {},
   "outputs": [
    {
     "data": {
      "text/plain": [
       "(2478558, 7)"
      ]
     },
     "execution_count": 18,
     "metadata": {},
     "output_type": "execute_result"
    }
   ],
   "source": [
    "parents_rel = relations[relations.rel != 'rel:etymology']\n",
    "parents_rel.shape"
   ]
  },
  {
   "cell_type": "code",
   "execution_count": 19,
   "metadata": {},
   "outputs": [
    {
     "data": {
      "text/plain": [
       "2516404"
      ]
     },
     "execution_count": 19,
     "metadata": {},
     "output_type": "execute_result"
    }
   ],
   "source": [
    "words = set()\n",
    "words.update(relations.src_word)\n",
    "words.update(relations.to_word)\n",
    "len(words)"
   ]
  },
  {
   "cell_type": "code",
   "execution_count": 20,
   "metadata": {},
   "outputs": [
    {
     "data": {
      "text/plain": [
       "(5516662, 2)"
      ]
     },
     "execution_count": 20,
     "metadata": {},
     "output_type": "execute_result"
    }
   ],
   "source": [
    "word_per_lang = pd.DataFrame(dict(\n",
    "    word=np.r_[relations.src_word, relations.to_word],\n",
    "    lang=np.r_[relations.src_lang, relations.to_lang],\n",
    "))\n",
    "word_per_lang.shape"
   ]
  },
  {
   "cell_type": "code",
   "execution_count": 21,
   "metadata": {},
   "outputs": [
    {
     "data": {
      "text/plain": [
       "2516404"
      ]
     },
     "execution_count": 21,
     "metadata": {},
     "output_type": "execute_result"
    }
   ],
   "source": [
    "word_langs = dict(word_per_lang.groupby(word_per_lang.word).lang.apply(lambda x: list(np.unique(x))).reset_index().values)\n",
    "len(word_langs)"
   ]
  },
  {
   "cell_type": "code",
   "execution_count": 22,
   "metadata": {},
   "outputs": [],
   "source": [
    "save(word_langs, 'word_langs')"
   ]
  },
  {
   "cell_type": "code",
   "execution_count": 23,
   "metadata": {},
   "outputs": [
    {
     "data": {
      "text/html": [
       "<div>\n",
       "<style scoped>\n",
       "    .dataframe tbody tr th:only-of-type {\n",
       "        vertical-align: middle;\n",
       "    }\n",
       "\n",
       "    .dataframe tbody tr th {\n",
       "        vertical-align: top;\n",
       "    }\n",
       "\n",
       "    .dataframe thead th {\n",
       "        text-align: right;\n",
       "    }\n",
       "</style>\n",
       "<table border=\"1\" class=\"dataframe\">\n",
       "  <thead>\n",
       "    <tr style=\"text-align: right;\">\n",
       "      <th></th>\n",
       "      <th>lang</th>\n",
       "      <th>word</th>\n",
       "    </tr>\n",
       "  </thead>\n",
       "  <tbody>\n",
       "    <tr>\n",
       "      <th>0</th>\n",
       "      <td>afr</td>\n",
       "      <td>afrikaner</td>\n",
       "    </tr>\n",
       "    <tr>\n",
       "      <th>1</th>\n",
       "      <td>afr</td>\n",
       "      <td>april</td>\n",
       "    </tr>\n",
       "    <tr>\n",
       "      <th>2</th>\n",
       "      <td>afr</td>\n",
       "      <td>augustus</td>\n",
       "    </tr>\n",
       "    <tr>\n",
       "      <th>3</th>\n",
       "      <td>afr</td>\n",
       "      <td>desember</td>\n",
       "    </tr>\n",
       "    <tr>\n",
       "      <th>4</th>\n",
       "      <td>afr</td>\n",
       "      <td>egipte</td>\n",
       "    </tr>\n",
       "  </tbody>\n",
       "</table>\n",
       "</div>"
      ],
      "text/plain": [
       "  lang       word\n",
       "0  afr  afrikaner\n",
       "1  afr      april\n",
       "2  afr   augustus\n",
       "3  afr   desember\n",
       "4  afr     egipte"
      ]
     },
     "execution_count": 23,
     "metadata": {},
     "output_type": "execute_result"
    }
   ],
   "source": [
    "word_per_lang.head()"
   ]
  },
  {
   "cell_type": "code",
   "execution_count": 24,
   "metadata": {},
   "outputs": [
    {
     "data": {
      "text/plain": [
       "lang\n",
       "afr    [afrikaner, april, augustus, desember, egipte,...\n",
       "aii    [אבא, אבא, אבא, אדרבא, אמתלא, ארדיכלא, בבא מצי...\n",
       "akk    [akkadu, zaqāru, ziqqurratu, ziqqurratu, 𒀀𒂵𒄠, ...\n",
       "ang    [agustus, babilon, babilon, bruning, cantwarab...\n",
       "arg    [chesús, a, abella, allo, as, ascuitar, au, au...\n",
       "Name: word, dtype: object"
      ]
     },
     "execution_count": 24,
     "metadata": {},
     "output_type": "execute_result"
    }
   ],
   "source": [
    "lang_cases = word_per_lang.groupby(word_per_lang.lang).word.apply(list)\n",
    "lang_cases.head()"
   ]
  },
  {
   "cell_type": "code",
   "execution_count": 25,
   "metadata": {},
   "outputs": [
    {
     "data": {
      "text/plain": [
       "lang\n",
       "afr      946\n",
       "aii       50\n",
       "akk      132\n",
       "ang    10000\n",
       "arg      152\n",
       "Name: word, dtype: int64"
      ]
     },
     "execution_count": 25,
     "metadata": {},
     "output_type": "execute_result"
    }
   ],
   "source": [
    "lang_count = word_per_lang.groupby(word_per_lang.lang).word.count()\n",
    "lang_count.head()"
   ]
  },
  {
   "cell_type": "code",
   "execution_count": 26,
   "metadata": {},
   "outputs": [
    {
     "data": {
      "text/plain": [
       "lang\n",
       "afr    6.397463\n",
       "aii    4.680000\n",
       "akk    2.795455\n",
       "ang    6.084800\n",
       "arg    6.046053\n",
       "Name: word, dtype: float64"
      ]
     },
     "execution_count": 26,
     "metadata": {},
     "output_type": "execute_result"
    }
   ],
   "source": [
    "lang_len_means = lang_cases.apply(lambda w: float(np.mean([len(x) for x in w])))\n",
    "lang_len_means.head()"
   ]
  },
  {
   "cell_type": "code",
   "execution_count": 27,
   "metadata": {},
   "outputs": [
    {
     "data": {
      "text/plain": [
       "lang\n",
       "afr    [4.0, 6.0, 8.0]\n",
       "aii    [4.0, 5.0, 5.0]\n",
       "akk    [2.0, 2.0, 3.0]\n",
       "ang    [4.0, 6.0, 7.0]\n",
       "arg    [4.0, 6.0, 7.0]\n",
       "Name: word, dtype: object"
      ]
     },
     "execution_count": 27,
     "metadata": {},
     "output_type": "execute_result"
    }
   ],
   "source": [
    "lang_len_percentiles = lang_cases.apply(lambda w: np.percentile([len(x) for x in w], [25, 50, 75]))\n",
    "lang_len_percentiles.head()"
   ]
  },
  {
   "cell_type": "code",
   "execution_count": 28,
   "metadata": {},
   "outputs": [
    {
     "data": {
      "text/plain": [
       "lang\n",
       "afr    2.719935\n",
       "aii    1.406272\n",
       "akk    1.972303\n",
       "ang    2.227871\n",
       "arg    2.586246\n",
       "Name: word, dtype: float64"
      ]
     },
     "execution_count": 28,
     "metadata": {},
     "output_type": "execute_result"
    }
   ],
   "source": [
    "lang_len_std = lang_cases.apply(lambda w: float(np.std([len(x) for x in w])))\n",
    "lang_len_std.head()"
   ]
  },
  {
   "cell_type": "code",
   "execution_count": 29,
   "metadata": {},
   "outputs": [
    {
     "data": {
      "text/plain": [
       "lang\n",
       "afr    [a, f, r, i, k, a, n, e, r, a, p, r, i, l, a, ...\n",
       "aii    [א, ב, א, א, ב, א, א, ב, א, א, ד, ר, ב, א, א, ...\n",
       "akk    [a, k, k, a, d, u, z, a, q, ā, r, u, z, i, q, ...\n",
       "ang    [a, g, u, s, t, u, s, b, a, b, i, l, o, n, b, ...\n",
       "arg    [c, h, e, s, ú, s, a, a, b, e, l, l, a, a, l, ...\n",
       "Name: word, dtype: object"
      ]
     },
     "execution_count": 29,
     "metadata": {},
     "output_type": "execute_result"
    }
   ],
   "source": [
    "lang_cases_letters = lang_cases.apply(lambda w: [x for xx in w for x in xx])\n",
    "lang_cases_letters.head()"
   ]
  },
  {
   "cell_type": "code",
   "execution_count": 30,
   "metadata": {},
   "outputs": [
    {
     "data": {
      "text/plain": [
       "lang\n",
       "afr    [(a, 610), (b, 214), (c, 3), (d, 259), (e, 924...\n",
       "aii    [( , 2), (ּ, 2), (א, 58), (ב, 16), (ד, 8), (ה,...\n",
       "akk    [(\", 1), (., 2), (a, 12), (d, 3), (e, 2), (g, ...\n",
       "ang    [( , 37), (\", 6), (,, 1), (., 14), (a, 5430), ...\n",
       "arg    [( , 3), (a, 124), (b, 29), (c, 63), (d, 27), ...\n",
       "Name: word, dtype: object"
      ]
     },
     "execution_count": 30,
     "metadata": {},
     "output_type": "execute_result"
    }
   ],
   "source": [
    "lang_letters = lang_cases_letters.apply(lambda w: [(l, int(c)) for l, c in zip(*np.unique(w, return_counts=True))])\n",
    "lang_letters.head()"
   ]
  },
  {
   "cell_type": "code",
   "execution_count": 31,
   "metadata": {},
   "outputs": [
    {
     "data": {
      "text/html": [
       "<div>\n",
       "<style scoped>\n",
       "    .dataframe tbody tr th:only-of-type {\n",
       "        vertical-align: middle;\n",
       "    }\n",
       "\n",
       "    .dataframe tbody tr th {\n",
       "        vertical-align: top;\n",
       "    }\n",
       "\n",
       "    .dataframe thead th {\n",
       "        text-align: right;\n",
       "    }\n",
       "</style>\n",
       "<table border=\"1\" class=\"dataframe\">\n",
       "  <thead>\n",
       "    <tr style=\"text-align: right;\">\n",
       "      <th></th>\n",
       "      <th>count</th>\n",
       "      <th>histogram</th>\n",
       "      <th>mean</th>\n",
       "      <th>percentile25</th>\n",
       "      <th>percentile50</th>\n",
       "      <th>percentile75</th>\n",
       "      <th>std</th>\n",
       "    </tr>\n",
       "    <tr>\n",
       "      <th>lang</th>\n",
       "      <th></th>\n",
       "      <th></th>\n",
       "      <th></th>\n",
       "      <th></th>\n",
       "      <th></th>\n",
       "      <th></th>\n",
       "      <th></th>\n",
       "    </tr>\n",
       "  </thead>\n",
       "  <tbody>\n",
       "    <tr>\n",
       "      <th>afr</th>\n",
       "      <td>946</td>\n",
       "      <td>[(a, 610), (b, 214), (c, 3), (d, 259), (e, 924...</td>\n",
       "      <td>6.397463</td>\n",
       "      <td>4.0</td>\n",
       "      <td>6.0</td>\n",
       "      <td>8.0</td>\n",
       "      <td>2.719935</td>\n",
       "    </tr>\n",
       "    <tr>\n",
       "      <th>aii</th>\n",
       "      <td>50</td>\n",
       "      <td>[( , 2), (ּ, 2), (א, 58), (ב, 16), (ד, 8), (ה,...</td>\n",
       "      <td>4.680000</td>\n",
       "      <td>4.0</td>\n",
       "      <td>5.0</td>\n",
       "      <td>5.0</td>\n",
       "      <td>1.406272</td>\n",
       "    </tr>\n",
       "    <tr>\n",
       "      <th>akk</th>\n",
       "      <td>132</td>\n",
       "      <td>[(\", 1), (., 2), (a, 12), (d, 3), (e, 2), (g, ...</td>\n",
       "      <td>2.795455</td>\n",
       "      <td>2.0</td>\n",
       "      <td>2.0</td>\n",
       "      <td>3.0</td>\n",
       "      <td>1.972303</td>\n",
       "    </tr>\n",
       "    <tr>\n",
       "      <th>ang</th>\n",
       "      <td>10000</td>\n",
       "      <td>[( , 37), (\", 6), (,, 1), (., 14), (a, 5430), ...</td>\n",
       "      <td>6.084800</td>\n",
       "      <td>4.0</td>\n",
       "      <td>6.0</td>\n",
       "      <td>7.0</td>\n",
       "      <td>2.227871</td>\n",
       "    </tr>\n",
       "    <tr>\n",
       "      <th>arg</th>\n",
       "      <td>152</td>\n",
       "      <td>[( , 3), (a, 124), (b, 29), (c, 63), (d, 27), ...</td>\n",
       "      <td>6.046053</td>\n",
       "      <td>4.0</td>\n",
       "      <td>6.0</td>\n",
       "      <td>7.0</td>\n",
       "      <td>2.586246</td>\n",
       "    </tr>\n",
       "  </tbody>\n",
       "</table>\n",
       "</div>"
      ],
      "text/plain": [
       "      count                                          histogram      mean  \\\n",
       "lang                                                                       \n",
       "afr     946  [(a, 610), (b, 214), (c, 3), (d, 259), (e, 924...  6.397463   \n",
       "aii      50  [( , 2), (ּ, 2), (א, 58), (ב, 16), (ד, 8), (ה,...  4.680000   \n",
       "akk     132  [(\", 1), (., 2), (a, 12), (d, 3), (e, 2), (g, ...  2.795455   \n",
       "ang   10000  [( , 37), (\", 6), (,, 1), (., 14), (a, 5430), ...  6.084800   \n",
       "arg     152  [( , 3), (a, 124), (b, 29), (c, 63), (d, 27), ...  6.046053   \n",
       "\n",
       "      percentile25  percentile50  percentile75       std  \n",
       "lang                                                      \n",
       "afr            4.0           6.0           8.0  2.719935  \n",
       "aii            4.0           5.0           5.0  1.406272  \n",
       "akk            2.0           2.0           3.0  1.972303  \n",
       "ang            4.0           6.0           7.0  2.227871  \n",
       "arg            4.0           6.0           7.0  2.586246  "
      ]
     },
     "execution_count": 31,
     "metadata": {},
     "output_type": "execute_result"
    }
   ],
   "source": [
    "lang_stats = pd.DataFrame(dict(\n",
    "    count=lang_count,\n",
    "    mean=lang_len_means,\n",
    "    std=lang_len_std,\n",
    "    percentile25=lang_len_percentiles.apply(lambda x: float(x[0])),\n",
    "    percentile50=lang_len_percentiles.apply(lambda x: float(x[1])),\n",
    "    percentile75=lang_len_percentiles.apply(lambda x: float(x[2])),\n",
    "    histogram=lang_letters\n",
    "))\n",
    "lang_stats.head()"
   ]
  },
  {
   "cell_type": "code",
   "execution_count": 32,
   "metadata": {},
   "outputs": [
    {
     "data": {
      "text/plain": [
       "to_lang\n",
       "afr     473\n",
       "aii      25\n",
       "akk      66\n",
       "ang    5000\n",
       "arg      76\n",
       "Name: to_word, dtype: int64"
      ]
     },
     "execution_count": 32,
     "metadata": {},
     "output_type": "execute_result"
    }
   ],
   "source": [
    "src_to_count = relations.groupby(relations.to_lang).to_word.count()\n",
    "src_to_count.head()"
   ]
  },
  {
   "cell_type": "code",
   "execution_count": 33,
   "metadata": {},
   "outputs": [
    {
     "data": {
      "text/plain": [
       "(1593,)"
      ]
     },
     "execution_count": 33,
     "metadata": {},
     "output_type": "execute_result"
    }
   ],
   "source": [
    "src_to = parents_rel.groupby([parents_rel.src_lang, parents_rel.to_lang]).count().rel\n",
    "src_to.shape"
   ]
  },
  {
   "cell_type": "code",
   "execution_count": 34,
   "metadata": {},
   "outputs": [
    {
     "data": {
      "text/plain": [
       "src_lang  to_lang\n",
       "afr       afr        283\n",
       "          deu          2\n",
       "          eng         15\n",
       "          nld          2\n",
       "          por          1\n",
       "Name: rel, dtype: int64"
      ]
     },
     "execution_count": 34,
     "metadata": {},
     "output_type": "execute_result"
    }
   ],
   "source": [
    "src_to.head()"
   ]
  },
  {
   "cell_type": "code",
   "execution_count": 35,
   "metadata": {},
   "outputs": [],
   "source": [
    "network_to = {}\n",
    "\n",
    "for (src, to), count in src_to.items():\n",
    "    if src not in network_to:\n",
    "        network_to[src] = []\n",
    "        \n",
    "    ratio = count# / src_to_count.loc[to]\n",
    "    #assert ratio <= 1\n",
    "    network_to[src].append([to, ratio])"
   ]
  },
  {
   "cell_type": "code",
   "execution_count": 36,
   "metadata": {},
   "outputs": [
    {
     "data": {
      "text/plain": [
       "src_lang\n",
       "afr     473\n",
       "aii      25\n",
       "akk      66\n",
       "ang    5000\n",
       "arg      76\n",
       "Name: src_word, dtype: int64"
      ]
     },
     "execution_count": 36,
     "metadata": {},
     "output_type": "execute_result"
    }
   ],
   "source": [
    "to_src_count = relations.groupby(relations.src_lang).src_word.count()\n",
    "to_src_count.head()"
   ]
  },
  {
   "cell_type": "code",
   "execution_count": 37,
   "metadata": {},
   "outputs": [
    {
     "data": {
      "text/plain": [
       "(1593,)"
      ]
     },
     "execution_count": 37,
     "metadata": {},
     "output_type": "execute_result"
    }
   ],
   "source": [
    "to_src = parents_rel.groupby([parents_rel.to_lang, parents_rel.src_lang]).count().rel\n",
    "to_src.shape"
   ]
  },
  {
   "cell_type": "code",
   "execution_count": 38,
   "metadata": {},
   "outputs": [
    {
     "data": {
      "text/plain": [
       "to_lang  src_lang\n",
       "afr      afr         283\n",
       "         deu           1\n",
       "         fra           1\n",
       "         nld         127\n",
       "         por           1\n",
       "Name: rel, dtype: int64"
      ]
     },
     "execution_count": 38,
     "metadata": {},
     "output_type": "execute_result"
    }
   ],
   "source": [
    "to_src.head()"
   ]
  },
  {
   "cell_type": "code",
   "execution_count": 39,
   "metadata": {},
   "outputs": [],
   "source": [
    "network_from = {}\n",
    "\n",
    "for (to, src), count in to_src.items():\n",
    "    if to not in network_from:\n",
    "        network_from[to] = []\n",
    "        \n",
    "    ratio = count# / to_src_count.loc[src]\n",
    "    #assert ratio <= 1\n",
    "    network_from[to].append([src, ratio])"
   ]
  },
  {
   "cell_type": "code",
   "execution_count": 40,
   "metadata": {},
   "outputs": [],
   "source": [
    "save({\n",
    "    'to': network_to,\n",
    "    'from': network_from,\n",
    "    'locations': lang_locations.set_index('isocode').to_dict('index'),\n",
    "    'stats': lang_stats.to_dict('index')\n",
    "}, 'lang_network')    "
   ]
  },
  {
   "cell_type": "code",
   "execution_count": 41,
   "metadata": {},
   "outputs": [
    {
     "data": {
      "text/plain": [
       "2633403"
      ]
     },
     "execution_count": 41,
     "metadata": {},
     "output_type": "execute_result"
    }
   ],
   "source": [
    "pairs = set()\n",
    "pairs.update(relations.src_lang.str.cat(':' + relations.src_word))\n",
    "pairs.update(relations.to_lang.str.cat(':' + relations.to_word))\n",
    "len(pairs)"
   ]
  },
  {
   "cell_type": "code",
   "execution_count": 42,
   "metadata": {},
   "outputs": [
    {
     "data": {
      "text/html": [
       "<div>\n",
       "<style scoped>\n",
       "    .dataframe tbody tr th:only-of-type {\n",
       "        vertical-align: middle;\n",
       "    }\n",
       "\n",
       "    .dataframe tbody tr th {\n",
       "        vertical-align: top;\n",
       "    }\n",
       "\n",
       "    .dataframe thead th {\n",
       "        text-align: right;\n",
       "    }\n",
       "</style>\n",
       "<table border=\"1\" class=\"dataframe\">\n",
       "  <thead>\n",
       "    <tr style=\"text-align: right;\">\n",
       "      <th></th>\n",
       "      <th>to</th>\n",
       "      <th>lang</th>\n",
       "      <th>word</th>\n",
       "    </tr>\n",
       "    <tr>\n",
       "      <th>src</th>\n",
       "      <th></th>\n",
       "      <th></th>\n",
       "      <th></th>\n",
       "    </tr>\n",
       "  </thead>\n",
       "  <tbody>\n",
       "    <tr>\n",
       "      <th>s/n9002814</th>\n",
       "      <td>t/hun/Oroszország</td>\n",
       "      <td>hun</td>\n",
       "      <td>oroszország</td>\n",
       "    </tr>\n",
       "    <tr>\n",
       "      <th>s/n9002814</th>\n",
       "      <td>t/rus/Россия</td>\n",
       "      <td>rus</td>\n",
       "      <td>россия</td>\n",
       "    </tr>\n",
       "    <tr>\n",
       "      <th>s/n9002814</th>\n",
       "      <td>t/ces/Rusko</td>\n",
       "      <td>ces</td>\n",
       "      <td>rusko</td>\n",
       "    </tr>\n",
       "    <tr>\n",
       "      <th>s/n9002814</th>\n",
       "      <td>t/fin/Venäjä</td>\n",
       "      <td>fin</td>\n",
       "      <td>venäjä</td>\n",
       "    </tr>\n",
       "    <tr>\n",
       "      <th>s/n9002814</th>\n",
       "      <td>t/cat/Rússia</td>\n",
       "      <td>cat</td>\n",
       "      <td>rússia</td>\n",
       "    </tr>\n",
       "  </tbody>\n",
       "</table>\n",
       "</div>"
      ],
      "text/plain": [
       "                           to lang         word\n",
       "src                                            \n",
       "s/n9002814  t/hun/Oroszország  hun  oroszország\n",
       "s/n9002814       t/rus/Россия  rus       россия\n",
       "s/n9002814        t/ces/Rusko  ces        rusko\n",
       "s/n9002814       t/fin/Venäjä  fin       venäjä\n",
       "s/n9002814       t/cat/Rússia  cat       rússia"
      ]
     },
     "execution_count": 42,
     "metadata": {},
     "output_type": "execute_result"
    }
   ],
   "source": [
    "mappings = pd.read_csv('../data/uwn.tsv', sep='\\t', header=None)\n",
    "mappings.columns = ['src', 'rel', 'to', 'weight']\n",
    "mappings = mappings[mappings.rel != 'rel:means']\n",
    "mappings = mappings.assign(\n",
    "    lang=mappings.to.apply(lambda x: x.split('/')[1].strip()),\n",
    "    word=mappings.to.apply(lambda x: x.split('/')[2].strip().lower()),\n",
    "    pair=mappings.to.apply(lambda x: ':'.join(p.strip().lower() for p in x.split('/')[1:])),\n",
    ")\n",
    "mappings = mappings[mappings.pair.isin(pairs)]\n",
    "mappings.drop(['weight', 'rel', 'pair'], axis=1, inplace=True)\n",
    "mappings.set_index('src', inplace=True)\n",
    "mappings.head()"
   ]
  },
  {
   "cell_type": "code",
   "execution_count": 43,
   "metadata": {},
   "outputs": [
    {
     "data": {
      "text/plain": [
       "(423701, 3)"
      ]
     },
     "execution_count": 43,
     "metadata": {},
     "output_type": "execute_result"
    }
   ],
   "source": [
    "mappings.shape"
   ]
  },
  {
   "cell_type": "code",
   "execution_count": 44,
   "metadata": {},
   "outputs": [
    {
     "data": {
      "text/plain": [
       "src\n",
       "iso3166/AD    [ita:andorra, gle:andóra, cat:andorra, hye:անդ...\n",
       "iso3166/AE    [nld:verenigde arabische emiraten, fra:émirats...\n",
       "iso3166/AF    [ces:afgánistán, lat:afgania, eng:persian, hun...\n",
       "iso3166/AG    [rus:антигуа и барбуда, pol:antigua i barbuda,...\n",
       "iso3166/AI           [fin:anguilla, eng:anguilla, ita:anguilla]\n",
       "dtype: object"
      ]
     },
     "execution_count": 44,
     "metadata": {},
     "output_type": "execute_result"
    }
   ],
   "source": [
    "clusters = mappings.groupby(mappings.index).apply(lambda x: list(x.lang.str.cat(':' + x.word)))\n",
    "clusters.head()"
   ]
  },
  {
   "cell_type": "code",
   "execution_count": 45,
   "metadata": {},
   "outputs": [
    {
     "name": "stderr",
     "output_type": "stream",
     "text": [
      "60838it [00:01, 36519.66it/s]\n"
     ]
    }
   ],
   "source": [
    "meanings = {}\n",
    "\n",
    "for _, cluster in tqdm(clusters.items()):\n",
    "        \n",
    "    for lang_word in cluster:\n",
    "        \n",
    "        if lang_word not in meanings:\n",
    "            meanings[lang_word] = set()\n",
    "            \n",
    "        meanings[lang_word].update(cluster)\n",
    "        meanings[lang_word].remove(lang_word)\n",
    "        \n",
    "for key, values in meanings.items():\n",
    "    meanings[key] = list(values)"
   ]
  },
  {
   "cell_type": "code",
   "execution_count": 46,
   "metadata": {},
   "outputs": [
    {
     "data": {
      "text/plain": [
       "275931"
      ]
     },
     "execution_count": 46,
     "metadata": {},
     "output_type": "execute_result"
    }
   ],
   "source": [
    "len(meanings)"
   ]
  },
  {
   "cell_type": "code",
   "execution_count": 47,
   "metadata": {},
   "outputs": [],
   "source": [
    "save(meanings, 'word_meanings')"
   ]
  },
  {
   "cell_type": "code",
   "execution_count": 48,
   "metadata": {},
   "outputs": [
    {
     "data": {
      "text/plain": [
       "to\n",
       "afr:aalmoesenier         afr:aalmoes,nld:aalmoezenier,\n",
       "afr:aalmoeseniershuis                afr:aalmoesenier,\n",
       "afr:aalwee                                   nld:aloë,\n",
       "afr:aalwees                                afr:aalwee,\n",
       "afr:aalwyne                                afr:aalwyn,\n",
       "Name: src, dtype: object"
      ]
     },
     "execution_count": 48,
     "metadata": {},
     "output_type": "execute_result"
    }
   ],
   "source": [
    "parents = pd.DataFrame(dict(\n",
    "     src=parents_rel.src_lang + ':' + parents_rel.src_word + ',',\n",
    "    to=parents_rel.to_lang + ':' + parents_rel.to_word,\n",
    ")).groupby('to').src.sum()\n",
    "parents.head()"
   ]
  },
  {
   "cell_type": "code",
   "execution_count": 49,
   "metadata": {},
   "outputs": [
    {
     "data": {
      "text/plain": [
       "2344628"
      ]
     },
     "execution_count": 49,
     "metadata": {},
     "output_type": "execute_result"
    }
   ],
   "source": [
    "parents_map = dict(parents.apply(lambda x: x.split(',')[:-1]).reset_index().values)\n",
    "len(parents_map)"
   ]
  },
  {
   "cell_type": "code",
   "execution_count": 50,
   "metadata": {},
   "outputs": [],
   "source": [
    "save(parents_map, 'word_parents')"
   ]
  },
  {
   "cell_type": "code",
   "execution_count": 51,
   "metadata": {},
   "outputs": [
    {
     "data": {
      "text/plain": [
       "src\n",
       "afr:aalmoes              afr:aalmoesenier,\n",
       "afr:aalmoesenier    afr:aalmoeseniershuis,\n",
       "afr:aalwee                    afr:aalwees,\n",
       "afr:aalwyn                    afr:aalwyne,\n",
       "afr:aambeeld                afr:aambeelde,\n",
       "Name: to, dtype: object"
      ]
     },
     "execution_count": 51,
     "metadata": {},
     "output_type": "execute_result"
    }
   ],
   "source": [
    "children = pd.DataFrame(dict(\n",
    "     src=parents_rel.src_lang + ':' + parents_rel.src_word,\n",
    "    to=parents_rel.to_lang + ':' + parents_rel.to_word + ',',\n",
    ")).groupby('src').to.sum()\n",
    "children.head()"
   ]
  },
  {
   "cell_type": "code",
   "execution_count": 52,
   "metadata": {},
   "outputs": [
    {
     "data": {
      "text/plain": [
       "475710"
      ]
     },
     "execution_count": 52,
     "metadata": {},
     "output_type": "execute_result"
    }
   ],
   "source": [
    "children_map = dict(children.apply(lambda x: x.split(',')[:-1]).reset_index().values)\n",
    "len(children_map)"
   ]
  },
  {
   "cell_type": "code",
   "execution_count": 53,
   "metadata": {},
   "outputs": [],
   "source": [
    "save(children_map, 'word_children')"
   ]
  },
  {
   "cell_type": "code",
   "execution_count": 54,
   "metadata": {},
   "outputs": [],
   "source": [
    "def recurse(lang_word, mapping, seen=None):\n",
    "    if seen is None:\n",
    "        seen = set()\n",
    "\n",
    "    if lang_word in seen:\n",
    "        return []\n",
    "    \n",
    "    seen.add(lang_word)\n",
    "    ps = mapping.get(lang_word, [])\n",
    "    return [(p, recurse(p, mapping, seen.copy())) for p in ps]"
   ]
  },
  {
   "cell_type": "code",
   "execution_count": 55,
   "metadata": {},
   "outputs": [
    {
     "data": {
      "text/plain": [
       "[('eng:dogge', []),\n",
       " ('enm:dogge', [('ang:docga', [('ang:dogga', [])]), ('ang:dogga', [])])]"
      ]
     },
     "execution_count": 55,
     "metadata": {},
     "output_type": "execute_result"
    }
   ],
   "source": [
    "recurse('eng:dog', parents_map)"
   ]
  },
  {
   "cell_type": "code",
   "execution_count": 56,
   "metadata": {},
   "outputs": [
    {
     "data": {
      "text/plain": [
       "[('eng:dogrib', []),\n",
       " ('eng:antidog', []),\n",
       " ('eng:bandog', [('eng:bandogs', [])]),\n",
       " ('eng:bonedog', [('eng:bonedogs', [])]),\n",
       " ('eng:coachdog', [('eng:coachdogs', [])]),\n",
       " ('eng:dogbolt', [('eng:dogbolts', [])]),\n",
       " ('eng:dogbone', [('eng:dogbones', [])]),\n",
       " ('eng:dogbreath', [('eng:dogbreaths', [])]),\n",
       " ('eng:dogcart', [('eng:dogcarts', [])]),\n",
       " ('eng:dogcatcher', [('eng:dogcatchers', [])]),\n",
       " ('eng:dogdom', []),\n",
       " ('eng:dogface', [('eng:dogfaces', [])]),\n",
       " ('eng:doggess', [('eng:doggesses', [])]),\n",
       " ('eng:doggish',\n",
       "  [('eng:doggishly', []),\n",
       "   ('eng:doggishness', []),\n",
       "   ('eng:doggishly', []),\n",
       "   ('eng:doggishness', [])]),\n",
       " ('eng:doggy',\n",
       "  [('eng:doggily', []),\n",
       "   ('eng:dogginess', []),\n",
       "   ('eng:doggier', []),\n",
       "   ('eng:doggies', []),\n",
       "   ('eng:doggiest', [])]),\n",
       " ('eng:doghole', [('eng:dogholes', [])]),\n",
       " ('eng:doghood', []),\n",
       " ('eng:doghouse', [('eng:doghouses', []), ('eng:in the doghouse', [])]),\n",
       " ('eng:dogkind', []),\n",
       " ('eng:dogless',\n",
       "  [('eng:doglessly', []),\n",
       "   ('eng:doglessness', []),\n",
       "   ('eng:doglessly', []),\n",
       "   ('eng:doglessness', [])]),\n",
       " ('eng:doglike', [('eng:undoglike', [])]),\n",
       " ('eng:dogling', []),\n",
       " ('eng:doglock', [('eng:doglocks', [])]),\n",
       " ('eng:doglore', []),\n",
       " ('eng:dognap', [('eng:dognapped', []), ('eng:dognaps', [])]),\n",
       " ('eng:dognapping', [('eng:dognappings', [])]),\n",
       " ('eng:dogness', []),\n",
       " ('eng:dogophile', [('eng:dogophiles', [])]),\n",
       " ('eng:dogpile',\n",
       "  [('eng:dogpiled', []), ('eng:dogpiles', []), ('eng:dogpiling', [])]),\n",
       " ('eng:dogproof', []),\n",
       " ('eng:dogshank', []),\n",
       " ('eng:dogship', [('eng:dogships', [])]),\n",
       " ('eng:dogshore', [('eng:dogshores', [])]),\n",
       " ('eng:dogsick', []),\n",
       " ('eng:dogsitter', [('eng:dogsitters', [])]),\n",
       " ('eng:dogskin', [('eng:dogskins', [])]),\n",
       " ('eng:dogsleep', []),\n",
       " ('eng:dogvane', [('eng:dogvanes', [])]),\n",
       " ('eng:dogwalker', [('eng:dogwalkers', [])]),\n",
       " ('eng:dogwash', [('eng:dogwashes', [])]),\n",
       " ('eng:dogwise', []),\n",
       " ('eng:granddog', [('eng:granddogs', [])]),\n",
       " ('eng:merdog', []),\n",
       " ('eng:multidog', []),\n",
       " ('eng:nondog', [('eng:nondogs', [])]),\n",
       " ('eng:overdog', [('eng:overdogs', [])]),\n",
       " ('eng:seadog', [('eng:seadogs', [])]),\n",
       " ('eng:shockdog', [('eng:shockdogs', [])]),\n",
       " ('eng:slumdog', [('eng:slumdogs', [])]),\n",
       " ('eng:snowdog', [('eng:snowdogs', [])]),\n",
       " ('eng:spurdog', [('eng:spurdogs', [])]),\n",
       " ('eng:veggiedog', [('eng:veggiedogs', [])]),\n",
       " ('eng:waterdog', [('eng:waterdogs', [])]),\n",
       " ('eng:weredog', [('eng:weredogs', [])]),\n",
       " ('fra:dogue', [('fra:dogues', [])]),\n",
       " ('rus:дог', []),\n",
       " ('spa:dogo', [('spa:dogos', [])]),\n",
       " ('tpi:dok', [('tpi:haus dok sik', []), ('tpi:titdok', [])]),\n",
       " ('eng:alsatian dog', []),\n",
       " ('eng:beware of dog!', []),\n",
       " ('eng:big dog', []),\n",
       " ('eng:canaan dog', []),\n",
       " ('eng:dog latin', []),\n",
       " ('eng:dog star', []),\n",
       " ('eng:dog years', []),\n",
       " ('eng:dogberry', [('eng:dogberries', [])]),\n",
       " ('eng:dogberryism', []),\n",
       " ('eng:european dogwood', []),\n",
       " ('eng:greater dog', []),\n",
       " ('eng:lesser dog', []),\n",
       " ('eng:little dog', []),\n",
       " ('eng:saint bernard dog', []),\n",
       " (\"eng:a dog's breakfast\", []),\n",
       " (\"eng:a dog's chance\", []),\n",
       " (\"eng:a dog's dinner\", []),\n",
       " (\"eng:a dog's life\", []),\n",
       " ('eng:assistance dog', [('eng:assistance dogs', [])]),\n",
       " ('eng:attack dog', [('eng:attack dogs', [])]),\n",
       " ('eng:avalanche dog', []),\n",
       " ('eng:avalanche rescue dog', []),\n",
       " ('eng:be top dog', []),\n",
       " ('eng:bird dog',\n",
       "  [('eng:bird dogged', []), ('eng:bird dogging', []), ('eng:bird dogs', [])]),\n",
       " ('eng:bottom dog', []),\n",
       " ('eng:brace of dogs', []),\n",
       " ('eng:bulldog',\n",
       "  [('fra:bouledogue', [('fra:bouledogues', [])]),\n",
       "   ('hun:buldog', [('hun:buldogok', [])]),\n",
       "   ('lit:buldogas', []),\n",
       "   ('rus:бульдог', []),\n",
       "   ('eng:british bulldog', []),\n",
       "   ('eng:bulldog edition', []),\n",
       "   ('eng:bulldog gravy', [('eng:bulldog gravies', [])]),\n",
       "   ('eng:bulldogged', []),\n",
       "   ('eng:bulldogging', []),\n",
       "   ('eng:bulldogs', [])]),\n",
       " ('eng:bulldog breeder', []),\n",
       " ('eng:bush dog', [('eng:bush dogs', [])]),\n",
       " ('eng:cadaver dog', []),\n",
       " ('eng:cattle dog', [('eng:cattle dogs', [])]),\n",
       " ('eng:clever old dog', []),\n",
       " ('eng:companion dog', []),\n",
       " ('eng:corndog', [('eng:corndogs', []), ('eng:corn dog', [])]),\n",
       " ('eng:cunning dog', []),\n",
       " ('eng:designer dog', []),\n",
       " (\"eng:diner's dog\", []),\n",
       " ('eng:dirty dog', []),\n",
       " ('eng:dog latin', []),\n",
       " ('eng:dog accessories', []),\n",
       " ('eng:dog accessory', []),\n",
       " ('eng:dog act', []),\n",
       " ('eng:dog ape', []),\n",
       " ('eng:dog ass', []),\n",
       " ('eng:dog attack', []),\n",
       " ('eng:dog basket', []),\n",
       " ('eng:dog bed', []),\n",
       " ('eng:dog biscuit', [('eng:dog biscuits', [])]),\n",
       " ('eng:dog bite', []),\n",
       " ('eng:dog book', []),\n",
       " ('eng:dog bootie', []),\n",
       " ('eng:dog booties', []),\n",
       " ('eng:dog bowl', []),\n",
       " ('eng:dog box', []),\n",
       " ('eng:dog breed', []),\n",
       " ('eng:dog breeder', []),\n",
       " ('eng:dog breeding', []),\n",
       " ('eng:dog cadaver', []),\n",
       " ('eng:dog care', []),\n",
       " ('eng:dog claw', []),\n",
       " ('eng:dog clothes', []),\n",
       " ('eng:dog clothing', []),\n",
       " ('eng:dog club', []),\n",
       " ('eng:dog clutch', []),\n",
       " ('eng:dog coat', []),\n",
       " ('eng:dog collar', [('eng:dog collars', [])]),\n",
       " ('eng:dog coupling', []),\n",
       " ('eng:dog crate', []),\n",
       " ('eng:dog curtain', []),\n",
       " ('eng:dog daisy', []),\n",
       " ('eng:dog dander', []),\n",
       " ('eng:dog dandruff', []),\n",
       " ('eng:dog days', []),\n",
       " ('eng:dog diabetes', []),\n",
       " ('eng:dog dirt', []),\n",
       " ('eng:dog door', []),\n",
       " ('eng:dog ear', []),\n",
       " ('eng:dog eat dog', []),\n",
       " ('eng:dog excrement', []),\n",
       " ('eng:dog faeces', []),\n",
       " ('eng:dog family', []),\n",
       " ('eng:dog fancier', []),\n",
       " ('eng:dog fancy', []),\n",
       " ('eng:dog fancying', []),\n",
       " ('eng:dog fashion', []),\n",
       " ('eng:dog feces', []),\n",
       " ('eng:dog fennel', []),\n",
       " ('eng:dog figurine', []),\n",
       " ('eng:dog flap', []),\n",
       " ('eng:dog flea', []),\n",
       " ('eng:dog flu', []),\n",
       " ('eng:dog fly', []),\n",
       " ('eng:dog food', []),\n",
       " ('eng:dog fouling', []),\n",
       " ('eng:dog fox', []),\n",
       " ('eng:dog groomer', []),\n",
       " ('eng:dog grooming', []),\n",
       " ('eng:dog hair', []),\n",
       " ('eng:dog handler', []),\n",
       " ('eng:dog harness', []),\n",
       " ('eng:dog hook', []),\n",
       " ('eng:dog house',\n",
       "  [('eng:dog houses', []),\n",
       "   ('eng:doghouse', [('eng:doghouses', []), ('eng:in the doghouse', [])])]),\n",
       " ('eng:dog hutch', []),\n",
       " ('eng:dog influenza', []),\n",
       " ('eng:dog it', []),\n",
       " ('eng:dog kennel', []),\n",
       " ('eng:dog killer', []),\n",
       " ('eng:dog lead', []),\n",
       " ('eng:dog leash', []),\n",
       " ('eng:dog licence', []),\n",
       " ('eng:dog licence disc', []),\n",
       " ('eng:dog licence fee', []),\n",
       " ('eng:dog lover', []),\n",
       " ('eng:dog magazine', []),\n",
       " ('eng:dog minder', []),\n",
       " ('eng:dog minding', []),\n",
       " ('eng:dog muzzle', []),\n",
       " ('eng:dog my cats', []),\n",
       " ('eng:dog nail', []),\n",
       " ('eng:dog owner', []),\n",
       " ('eng:dog ownership', []),\n",
       " ('eng:dog pack', []),\n",
       " ('eng:dog paddle', []),\n",
       " ('eng:dog park', []),\n",
       " ('eng:dog parlor', []),\n",
       " ('eng:dog parlour', []),\n",
       " ('eng:dog patrol', []),\n",
       " ('eng:dog pen', []),\n",
       " ('eng:dog person', []),\n",
       " ('eng:dog poop', []),\n",
       " ('eng:dog poop scoop', []),\n",
       " ('eng:dog pooper scooper', []),\n",
       " ('eng:dog portrait', []),\n",
       " ('eng:dog pound', []),\n",
       " ('eng:dog puppy', []),\n",
       " ('eng:dog racing', []),\n",
       " ('eng:dog robber', []),\n",
       " ('eng:dog run', []),\n",
       " ('eng:dog salmon', []),\n",
       " ('eng:dog screw', []),\n",
       " ('eng:dog shit', []),\n",
       " ('eng:dog show', []),\n",
       " ('eng:dog showing', []),\n",
       " ('eng:dog sitter', []),\n",
       " ('eng:dog sitting', []),\n",
       " ('eng:dog skull', []),\n",
       " ('eng:dog sled', []),\n",
       " ('eng:dog sledder', []),\n",
       " ('eng:dog sledding', []),\n",
       " ('eng:dog sledge', []),\n",
       " ('eng:dog sleigh', []),\n",
       " (\"eng:dog somebody's steps\", []),\n",
       " ('eng:dog speak', []),\n",
       " ('eng:dog spike', []),\n",
       " ('eng:dog sport', []),\n",
       " ('eng:dog tag', [('eng:dog tags', [])]),\n",
       " ('eng:dog tapeworm', []),\n",
       " ('eng:dog tax', []),\n",
       " ('eng:dog team', []),\n",
       " ('eng:dog tick', []),\n",
       " ('eng:dog tooth', []),\n",
       " ('eng:dog track', []),\n",
       " ('eng:dog train', []),\n",
       " ('eng:dog trainer', []),\n",
       " ('eng:dog training', []),\n",
       " ('eng:dog training school', []),\n",
       " ('eng:dog treat', []),\n",
       " ('eng:dog treats', []),\n",
       " ('eng:dog tucker', []),\n",
       " ('eng:dog turd', []),\n",
       " ('eng:dog violet', []),\n",
       " ('eng:dog walk', []),\n",
       " ('eng:dog walker', []),\n",
       " ('eng:dog walking', []),\n",
       " ('eng:dog warden', []),\n",
       " ('eng:dog watch', [('eng:dog watches', [])]),\n",
       " ('eng:dog whelk', []),\n",
       " ('eng:dog whisperer', []),\n",
       " ('eng:dog whistle', []),\n",
       " ('eng:dog work', []),\n",
       " ('eng:dog world', []),\n",
       " ('eng:dog year', [('eng:dog years', [])]),\n",
       " (\"eng:dog's breakfast\", [(\"eng:dog's breakfasts\", [])]),\n",
       " (\"eng:dog's dinner\", []),\n",
       " (\"eng:dog's dirt\", []),\n",
       " (\"eng:dog's disease\", []),\n",
       " (\"eng:dog's ear\", []),\n",
       " (\"eng:dog's letter\", []),\n",
       " (\"eng:dog's life\", []),\n",
       " (\"eng:dog's meat\", []),\n",
       " (\"eng:dog's mercury\", []),\n",
       " (\"eng:dog's mess\", []),\n",
       " (\"eng:dog's muck\", []),\n",
       " (\"eng:dog's muzzle\", []),\n",
       " (\"eng:dog's nose\", []),\n",
       " (\"eng:dog's paw\", []),\n",
       " (\"eng:dog's skull\", []),\n",
       " (\"eng:dog's tail\", []),\n",
       " (\"eng:dog's tongue\", []),\n",
       " ('eng:dogbane', [('eng:dogbanes', [])]),\n",
       " ('eng:dogbane family', []),\n",
       " ('eng:dogberry', [('eng:dogberries', [])]),\n",
       " ('eng:dogberryism', []),\n",
       " ('eng:dogcart', [('eng:dogcarts', [])]),\n",
       " ('eng:dogcatcher', [('eng:dogcatchers', [])]),\n",
       " ('eng:dogcatching', []),\n",
       " ('eng:dogcheap', []),\n",
       " ('eng:dogdom', []),\n",
       " ('eng:dogface', [('eng:dogfaces', [])]),\n",
       " ('eng:dogfight',\n",
       "  [('eng:dogfighter', [('eng:dogfighters', [])]),\n",
       "   ('eng:dogfighting', []),\n",
       "   ('eng:dogfights', []),\n",
       "   ('eng:dogfought', [])]),\n",
       " ('eng:dogfish',\n",
       "  [('eng:chain dogfish', []),\n",
       "   ('eng:dogfishes', []),\n",
       "   ('eng:lesser spotted dogfish', []),\n",
       "   ('eng:longsnout dogfish', []),\n",
       "   ('eng:prickly dogfish', []),\n",
       "   ('eng:roughskin dogfish', []),\n",
       "   ('eng:shortnose velvet dogfish', []),\n",
       "   ('eng:smooth dogfish', []),\n",
       "   ('eng:spiney dogfish', [])]),\n",
       " ('eng:dogfood',\n",
       "  [('eng:dogfooded', []), ('eng:dogfooding', []), ('eng:dogfoods', [])]),\n",
       " ('eng:dogfought', []),\n",
       " ('eng:dogged',\n",
       "  [('eng:doggedly', []),\n",
       "   ('eng:doggedness', []),\n",
       "   ('eng:doggedly', []),\n",
       "   ('eng:doggedness', [])]),\n",
       " ('eng:dogged it', []),\n",
       " ('eng:doggedly', []),\n",
       " ('eng:doggedness', []),\n",
       " ('eng:dogger',\n",
       "  [('eng:doggerman', [('eng:doggermen', [])]), ('eng:doggers', [])]),\n",
       " ('eng:doggerel', [('eng:doggerels', [])]),\n",
       " ('eng:doggerel rhyme', []),\n",
       " ('eng:doggerel verse', []),\n",
       " ('eng:doggery', [('eng:doggeries', [])]),\n",
       " ('eng:doggie', [('eng:doggies', [])]),\n",
       " ('eng:doggie do', []),\n",
       " ('eng:doggie door', []),\n",
       " ('eng:doggie paddle', []),\n",
       " ('eng:doggie position', []),\n",
       " ('eng:doggier', []),\n",
       " ('eng:doggiest', []),\n",
       " ('eng:dogging', [('eng:doggings', [])]),\n",
       " ('eng:doggish',\n",
       "  [('eng:doggishly', []),\n",
       "   ('eng:doggishness', []),\n",
       "   ('eng:doggishly', []),\n",
       "   ('eng:doggishness', [])]),\n",
       " ('eng:doggishly', []),\n",
       " ('eng:doggishness', []),\n",
       " ('eng:doggone', []),\n",
       " ('eng:doggoned', []),\n",
       " ('eng:doggonedest', []),\n",
       " ('eng:doggrel', []),\n",
       " ('eng:doggy',\n",
       "  [('eng:doggily', []),\n",
       "   ('eng:dogginess', []),\n",
       "   ('eng:doggier', []),\n",
       "   ('eng:doggies', []),\n",
       "   ('eng:doggiest', [])]),\n",
       " ('eng:doggy bag', [('eng:doggy bags', [])]),\n",
       " ('eng:doggy door', []),\n",
       " ('eng:doggy paddle', []),\n",
       " ('eng:doggy person', []),\n",
       " ('eng:doggystyle', []),\n",
       " ('eng:doggystyle position', []),\n",
       " ('eng:doghead', [('eng:dogheads', [])]),\n",
       " ('eng:doghouse', [('eng:doghouses', []), ('eng:in the doghouse', [])]),\n",
       " ('eng:dogiron', []),\n",
       " ('eng:dogleg',\n",
       "  [('eng:doglegged', []), ('eng:doglegging', []), ('eng:doglegs', [])]),\n",
       " ('eng:dogleg fence', []),\n",
       " ('eng:dogleg jack', []),\n",
       " ('eng:doglegged', []),\n",
       " ('eng:doglegging', []),\n",
       " ('eng:dogless',\n",
       "  [('eng:doglessly', []),\n",
       "   ('eng:doglessness', []),\n",
       "   ('eng:doglessly', []),\n",
       "   ('eng:doglessness', [])]),\n",
       " ('eng:doglike', [('eng:undoglike', [])]),\n",
       " ('eng:doglike devotion', []),\n",
       " ('eng:dogling', []),\n",
       " ('eng:dogly', []),\n",
       " ('eng:dognap', [('eng:dognapped', []), ('eng:dognaps', [])]),\n",
       " ('eng:dognaped', []),\n",
       " ('eng:dognaper', []),\n",
       " ('eng:dognaping', []),\n",
       " ('eng:dognapped', []),\n",
       " ('eng:dognapper', [('eng:dognappers', [])]),\n",
       " ('eng:dognapping', [('eng:dognappings', [])]),\n",
       " ('eng:dognaps', []),\n",
       " ('eng:dogpaddle', []),\n",
       " ('eng:dogpaddling', []),\n",
       " ('eng:dogpile',\n",
       "  [('eng:dogpiled', []), ('eng:dogpiles', []), ('eng:dogpiling', [])]),\n",
       " ('eng:dogpoor', []),\n",
       " ('eng:dogrel', []),\n",
       " ('eng:dogs', []),\n",
       " ('eng:dogsbodied', []),\n",
       " ('eng:dogsbodies', []),\n",
       " ('eng:dogsbody',\n",
       "  [('eng:dogsbodied', []), ('eng:dogsbodies', []), ('eng:dogsbodying', [])]),\n",
       " ('eng:dogsbodying', []),\n",
       " ('eng:dogshit', []),\n",
       " ('eng:dogshore', [('eng:dogshores', [])]),\n",
       " ('eng:dogsitter', [('eng:dogsitters', [])]),\n",
       " ('eng:dogsitting', []),\n",
       " ('eng:dogsled',\n",
       "  [('eng:dogsledded', []), ('eng:dogsledding', []), ('eng:dogsleds', [])]),\n",
       " ('eng:dogsledder', []),\n",
       " ('eng:dogsledding', []),\n",
       " ('eng:dogtooth',\n",
       "  [('eng:dogteeth', []),\n",
       "   ('eng:dogtooth spar', []),\n",
       "   ('eng:dogtooth violet', [])]),\n",
       " ('eng:dogtooth check', []),\n",
       " ('eng:dogtooth violet', []),\n",
       " ('eng:dogtrot',\n",
       "  [('eng:dogtrots', []), ('eng:dogtrotted', []), ('eng:dogtrotting', [])]),\n",
       " ('eng:dogvane', [('eng:dogvanes', [])]),\n",
       " ('eng:dogwalker', [('eng:dogwalkers', [])]),\n",
       " ('eng:dogwalking', []),\n",
       " ('eng:dogwash', [('eng:dogwashes', [])]),\n",
       " ('eng:dogwatch', [('eng:dogwatches', [])]),\n",
       " ('eng:dogwhip',\n",
       "  [('eng:dogwhipped', []), ('eng:dogwhipping', []), ('eng:dogwhips', [])]),\n",
       " ('eng:dogwood', [('eng:dogwoods', [])]),\n",
       " ('eng:dogwood family', []),\n",
       " ('eng:dogwood winter', []),\n",
       " ('eng:domestic dog', []),\n",
       " ('eng:domesticated dog', []),\n",
       " ('eng:double dog dare', []),\n",
       " ('eng:feral dog', []),\n",
       " ('eng:fire dog', []),\n",
       " ('eng:firedog', [('eng:firedogs', [])]),\n",
       " ('eng:fogdog', [('eng:fogdogs', [])]),\n",
       " ('eng:guard dog', [('eng:guard dogs', [])]),\n",
       " ('eng:guide dog', [('eng:guide dogs', [])]),\n",
       " ('eng:gun dog', [('eng:gun dogs', [])]),\n",
       " ('eng:hot dog', [('fin:hotsi', []), ('eng:hot dogs', [])]),\n",
       " ('eng:hotdog',\n",
       "  [('eng:slawdog', [('eng:slawdogs', [])]),\n",
       "   ('eng:hotdogged', []),\n",
       "   ('eng:hotdogging', []),\n",
       "   ('eng:hotdogs', []),\n",
       "   ('eng:hot dog', [('fin:hotsi', []), ('eng:hot dogs', [])])]),\n",
       " ('eng:hotdogger', []),\n",
       " ('eng:house dog', []),\n",
       " ('eng:hunting dog', []),\n",
       " ('eng:in the doghouse', []),\n",
       " ('eng:junkyard dog', []),\n",
       " ('eng:lap dog', []),\n",
       " ('eng:lapdog', [('eng:lapdogs', [])]),\n",
       " ('eng:lazy dog', []),\n",
       " ('eng:lead dog', []),\n",
       " ('eng:lie doggo', []),\n",
       " ('eng:like a dog', []),\n",
       " ('eng:little dog', []),\n",
       " ('eng:lucky dog', []),\n",
       " ('eng:mad dog', []),\n",
       " ('eng:mountain dog', []),\n",
       " ('eng:pedigree dog', []),\n",
       " ('eng:pet dog', []),\n",
       " ('eng:police dog', [('eng:police dogs', [])]),\n",
       " ('eng:prairie dog',\n",
       "  [('eng:prairie dogged', []),\n",
       "   ('eng:prairie dogging', [('eng:prairie doggings', [])]),\n",
       "   ('eng:prairie dogs', [])]),\n",
       " ('eng:puppy dog', []),\n",
       " ('eng:puppy dog eyes', []),\n",
       " ('eng:purebred dog', []),\n",
       " ('eng:purebreed dog', []),\n",
       " ('eng:raccoon dog', [('eng:raccoon dogs', [])]),\n",
       " ('eng:railroad police dog', []),\n",
       " ('eng:railway police dog', []),\n",
       " ('eng:rescue dog', [('eng:rescue dogs', [])]),\n",
       " ('eng:sausage dog', []),\n",
       " ('eng:seadog', [('eng:seadogs', [])]),\n",
       " ('eng:service dog', []),\n",
       " ('eng:sheepdog', [('eng:sheepdogs', [])]),\n",
       " ('eng:show dog', []),\n",
       " ('eng:silk dog', []),\n",
       " ('eng:sled dog', [('eng:sled dogs', [])]),\n",
       " ('eng:sled dog breed', []),\n",
       " ('eng:sled dog race', []),\n",
       " ('eng:sled dog racer', []),\n",
       " ('eng:sled dog racing', []),\n",
       " ('eng:sly dog', []),\n",
       " ('eng:smooth dogfish', []),\n",
       " ('eng:spiny dogfish', []),\n",
       " ('eng:spotted dogfish', []),\n",
       " ('eng:stray dog', []),\n",
       " ('eng:sun dog', [('eng:sun dogs', [])]),\n",
       " ('eng:sundog',\n",
       "  [('eng:sundogs', []), ('eng:sun dog', [('eng:sun dogs', [])])]),\n",
       " ('eng:swing dog', []),\n",
       " ('eng:the dogs', []),\n",
       " ('eng:tinned dog', []),\n",
       " ('eng:top dog', [('eng:top dogs', [])]),\n",
       " ('eng:top dog behavior', []),\n",
       " ('eng:top dog behaviour', []),\n",
       " ('eng:toy dog', [('eng:toy dogs', [])]),\n",
       " ('eng:toy dog breed', []),\n",
       " ('eng:underdog', [('eng:underdogism', []), ('eng:underdogs', [])]),\n",
       " ('eng:veggie dog', [('eng:veggie dogs', [])]),\n",
       " ('eng:war dog', []),\n",
       " ('eng:water dog', [('eng:water dogs', [])]),\n",
       " ('eng:wiener dog', [('eng:wiener dogs', [])]),\n",
       " ('eng:wild dog', []),\n",
       " ('eng:wise old dog', []),\n",
       " ('eng:working dog', [('eng:working dogs', [])]),\n",
       " ('eng:yard dog', []),\n",
       " ('eng:yellow dog', []),\n",
       " ('eng:young dog', [])]"
      ]
     },
     "execution_count": 56,
     "metadata": {},
     "output_type": "execute_result"
    }
   ],
   "source": [
    "recurse('eng:dog', children_map)"
   ]
  },
  {
   "cell_type": "code",
   "execution_count": 57,
   "metadata": {},
   "outputs": [],
   "source": [
    "def recurse_unfold(lang_word, mapping):\n",
    "    \n",
    "    edges = []\n",
    "    depth = 0\n",
    "    \n",
    "    def edgify(lang_word, history=[], seen=None):\n",
    "        if seen is None:\n",
    "            seen = set()\n",
    "        \n",
    "        ps = mapping.get(lang_word, [])\n",
    "\n",
    "        if lang_word in seen:\n",
    "            edges.append(history)\n",
    "            return\n",
    "        \n",
    "        if not len(ps):\n",
    "            edges.append(history + [lang_word])\n",
    "            return\n",
    "\n",
    "        seen.add(lang_word)\n",
    "        [edgify(p, history + [lang_word], seen.copy()) for p in ps]\n",
    "\n",
    "    edgify(lang_word)\n",
    "    return edges"
   ]
  },
  {
   "cell_type": "code",
   "execution_count": 58,
   "metadata": {},
   "outputs": [
    {
     "data": {
      "text/plain": [
       "[['eng:dog', 'eng:dogge'],\n",
       " ['eng:dog', 'enm:dogge', 'ang:docga', 'ang:dogga'],\n",
       " ['eng:dog', 'enm:dogge', 'ang:dogga']]"
      ]
     },
     "execution_count": 58,
     "metadata": {},
     "output_type": "execute_result"
    }
   ],
   "source": [
    "recurse_unfold('eng:dog', parents_map)"
   ]
  },
  {
   "cell_type": "code",
   "execution_count": 59,
   "metadata": {},
   "outputs": [
    {
     "data": {
      "text/plain": [
       "[['eng:dog', 'eng:dogrib'],\n",
       " ['eng:dog', 'eng:antidog'],\n",
       " ['eng:dog', 'eng:bandog', 'eng:bandogs'],\n",
       " ['eng:dog', 'eng:bonedog', 'eng:bonedogs'],\n",
       " ['eng:dog', 'eng:coachdog', 'eng:coachdogs'],\n",
       " ['eng:dog', 'eng:dogbolt', 'eng:dogbolts'],\n",
       " ['eng:dog', 'eng:dogbone', 'eng:dogbones'],\n",
       " ['eng:dog', 'eng:dogbreath', 'eng:dogbreaths'],\n",
       " ['eng:dog', 'eng:dogcart', 'eng:dogcarts'],\n",
       " ['eng:dog', 'eng:dogcatcher', 'eng:dogcatchers'],\n",
       " ['eng:dog', 'eng:dogdom'],\n",
       " ['eng:dog', 'eng:dogface', 'eng:dogfaces'],\n",
       " ['eng:dog', 'eng:doggess', 'eng:doggesses'],\n",
       " ['eng:dog', 'eng:doggish', 'eng:doggishly'],\n",
       " ['eng:dog', 'eng:doggish', 'eng:doggishness'],\n",
       " ['eng:dog', 'eng:doggish', 'eng:doggishly'],\n",
       " ['eng:dog', 'eng:doggish', 'eng:doggishness'],\n",
       " ['eng:dog', 'eng:doggy', 'eng:doggily'],\n",
       " ['eng:dog', 'eng:doggy', 'eng:dogginess'],\n",
       " ['eng:dog', 'eng:doggy', 'eng:doggier'],\n",
       " ['eng:dog', 'eng:doggy', 'eng:doggies'],\n",
       " ['eng:dog', 'eng:doggy', 'eng:doggiest'],\n",
       " ['eng:dog', 'eng:doghole', 'eng:dogholes'],\n",
       " ['eng:dog', 'eng:doghood'],\n",
       " ['eng:dog', 'eng:doghouse', 'eng:doghouses'],\n",
       " ['eng:dog', 'eng:doghouse', 'eng:in the doghouse'],\n",
       " ['eng:dog', 'eng:dogkind'],\n",
       " ['eng:dog', 'eng:dogless', 'eng:doglessly'],\n",
       " ['eng:dog', 'eng:dogless', 'eng:doglessness'],\n",
       " ['eng:dog', 'eng:dogless', 'eng:doglessly'],\n",
       " ['eng:dog', 'eng:dogless', 'eng:doglessness'],\n",
       " ['eng:dog', 'eng:doglike', 'eng:undoglike'],\n",
       " ['eng:dog', 'eng:dogling'],\n",
       " ['eng:dog', 'eng:doglock', 'eng:doglocks'],\n",
       " ['eng:dog', 'eng:doglore'],\n",
       " ['eng:dog', 'eng:dognap', 'eng:dognapped'],\n",
       " ['eng:dog', 'eng:dognap', 'eng:dognaps'],\n",
       " ['eng:dog', 'eng:dognapping', 'eng:dognappings'],\n",
       " ['eng:dog', 'eng:dogness'],\n",
       " ['eng:dog', 'eng:dogophile', 'eng:dogophiles'],\n",
       " ['eng:dog', 'eng:dogpile', 'eng:dogpiled'],\n",
       " ['eng:dog', 'eng:dogpile', 'eng:dogpiles'],\n",
       " ['eng:dog', 'eng:dogpile', 'eng:dogpiling'],\n",
       " ['eng:dog', 'eng:dogproof'],\n",
       " ['eng:dog', 'eng:dogshank'],\n",
       " ['eng:dog', 'eng:dogship', 'eng:dogships'],\n",
       " ['eng:dog', 'eng:dogshore', 'eng:dogshores'],\n",
       " ['eng:dog', 'eng:dogsick'],\n",
       " ['eng:dog', 'eng:dogsitter', 'eng:dogsitters'],\n",
       " ['eng:dog', 'eng:dogskin', 'eng:dogskins'],\n",
       " ['eng:dog', 'eng:dogsleep'],\n",
       " ['eng:dog', 'eng:dogvane', 'eng:dogvanes'],\n",
       " ['eng:dog', 'eng:dogwalker', 'eng:dogwalkers'],\n",
       " ['eng:dog', 'eng:dogwash', 'eng:dogwashes'],\n",
       " ['eng:dog', 'eng:dogwise'],\n",
       " ['eng:dog', 'eng:granddog', 'eng:granddogs'],\n",
       " ['eng:dog', 'eng:merdog'],\n",
       " ['eng:dog', 'eng:multidog'],\n",
       " ['eng:dog', 'eng:nondog', 'eng:nondogs'],\n",
       " ['eng:dog', 'eng:overdog', 'eng:overdogs'],\n",
       " ['eng:dog', 'eng:seadog', 'eng:seadogs'],\n",
       " ['eng:dog', 'eng:shockdog', 'eng:shockdogs'],\n",
       " ['eng:dog', 'eng:slumdog', 'eng:slumdogs'],\n",
       " ['eng:dog', 'eng:snowdog', 'eng:snowdogs'],\n",
       " ['eng:dog', 'eng:spurdog', 'eng:spurdogs'],\n",
       " ['eng:dog', 'eng:veggiedog', 'eng:veggiedogs'],\n",
       " ['eng:dog', 'eng:waterdog', 'eng:waterdogs'],\n",
       " ['eng:dog', 'eng:weredog', 'eng:weredogs'],\n",
       " ['eng:dog', 'fra:dogue', 'fra:dogues'],\n",
       " ['eng:dog', 'rus:дог'],\n",
       " ['eng:dog', 'spa:dogo', 'spa:dogos'],\n",
       " ['eng:dog', 'tpi:dok', 'tpi:haus dok sik'],\n",
       " ['eng:dog', 'tpi:dok', 'tpi:titdok'],\n",
       " ['eng:dog', 'eng:alsatian dog'],\n",
       " ['eng:dog', 'eng:beware of dog!'],\n",
       " ['eng:dog', 'eng:big dog'],\n",
       " ['eng:dog', 'eng:canaan dog'],\n",
       " ['eng:dog', 'eng:dog latin'],\n",
       " ['eng:dog', 'eng:dog star'],\n",
       " ['eng:dog', 'eng:dog years'],\n",
       " ['eng:dog', 'eng:dogberry', 'eng:dogberries'],\n",
       " ['eng:dog', 'eng:dogberryism'],\n",
       " ['eng:dog', 'eng:european dogwood'],\n",
       " ['eng:dog', 'eng:greater dog'],\n",
       " ['eng:dog', 'eng:lesser dog'],\n",
       " ['eng:dog', 'eng:little dog'],\n",
       " ['eng:dog', 'eng:saint bernard dog'],\n",
       " ['eng:dog', \"eng:a dog's breakfast\"],\n",
       " ['eng:dog', \"eng:a dog's chance\"],\n",
       " ['eng:dog', \"eng:a dog's dinner\"],\n",
       " ['eng:dog', \"eng:a dog's life\"],\n",
       " ['eng:dog', 'eng:assistance dog', 'eng:assistance dogs'],\n",
       " ['eng:dog', 'eng:attack dog', 'eng:attack dogs'],\n",
       " ['eng:dog', 'eng:avalanche dog'],\n",
       " ['eng:dog', 'eng:avalanche rescue dog'],\n",
       " ['eng:dog', 'eng:be top dog'],\n",
       " ['eng:dog', 'eng:bird dog', 'eng:bird dogged'],\n",
       " ['eng:dog', 'eng:bird dog', 'eng:bird dogging'],\n",
       " ['eng:dog', 'eng:bird dog', 'eng:bird dogs'],\n",
       " ['eng:dog', 'eng:bottom dog'],\n",
       " ['eng:dog', 'eng:brace of dogs'],\n",
       " ['eng:dog', 'eng:bulldog', 'fra:bouledogue', 'fra:bouledogues'],\n",
       " ['eng:dog', 'eng:bulldog', 'hun:buldog', 'hun:buldogok'],\n",
       " ['eng:dog', 'eng:bulldog', 'lit:buldogas'],\n",
       " ['eng:dog', 'eng:bulldog', 'rus:бульдог'],\n",
       " ['eng:dog', 'eng:bulldog', 'eng:british bulldog'],\n",
       " ['eng:dog', 'eng:bulldog', 'eng:bulldog edition'],\n",
       " ['eng:dog', 'eng:bulldog', 'eng:bulldog gravy', 'eng:bulldog gravies'],\n",
       " ['eng:dog', 'eng:bulldog', 'eng:bulldogged'],\n",
       " ['eng:dog', 'eng:bulldog', 'eng:bulldogging'],\n",
       " ['eng:dog', 'eng:bulldog', 'eng:bulldogs'],\n",
       " ['eng:dog', 'eng:bulldog breeder'],\n",
       " ['eng:dog', 'eng:bush dog', 'eng:bush dogs'],\n",
       " ['eng:dog', 'eng:cadaver dog'],\n",
       " ['eng:dog', 'eng:cattle dog', 'eng:cattle dogs'],\n",
       " ['eng:dog', 'eng:clever old dog'],\n",
       " ['eng:dog', 'eng:companion dog'],\n",
       " ['eng:dog', 'eng:corndog', 'eng:corndogs'],\n",
       " ['eng:dog', 'eng:corndog', 'eng:corn dog'],\n",
       " ['eng:dog', 'eng:cunning dog'],\n",
       " ['eng:dog', 'eng:designer dog'],\n",
       " ['eng:dog', \"eng:diner's dog\"],\n",
       " ['eng:dog', 'eng:dirty dog'],\n",
       " ['eng:dog', 'eng:dog latin'],\n",
       " ['eng:dog', 'eng:dog accessories'],\n",
       " ['eng:dog', 'eng:dog accessory'],\n",
       " ['eng:dog', 'eng:dog act'],\n",
       " ['eng:dog', 'eng:dog ape'],\n",
       " ['eng:dog', 'eng:dog ass'],\n",
       " ['eng:dog', 'eng:dog attack'],\n",
       " ['eng:dog', 'eng:dog basket'],\n",
       " ['eng:dog', 'eng:dog bed'],\n",
       " ['eng:dog', 'eng:dog biscuit', 'eng:dog biscuits'],\n",
       " ['eng:dog', 'eng:dog bite'],\n",
       " ['eng:dog', 'eng:dog book'],\n",
       " ['eng:dog', 'eng:dog bootie'],\n",
       " ['eng:dog', 'eng:dog booties'],\n",
       " ['eng:dog', 'eng:dog bowl'],\n",
       " ['eng:dog', 'eng:dog box'],\n",
       " ['eng:dog', 'eng:dog breed'],\n",
       " ['eng:dog', 'eng:dog breeder'],\n",
       " ['eng:dog', 'eng:dog breeding'],\n",
       " ['eng:dog', 'eng:dog cadaver'],\n",
       " ['eng:dog', 'eng:dog care'],\n",
       " ['eng:dog', 'eng:dog claw'],\n",
       " ['eng:dog', 'eng:dog clothes'],\n",
       " ['eng:dog', 'eng:dog clothing'],\n",
       " ['eng:dog', 'eng:dog club'],\n",
       " ['eng:dog', 'eng:dog clutch'],\n",
       " ['eng:dog', 'eng:dog coat'],\n",
       " ['eng:dog', 'eng:dog collar', 'eng:dog collars'],\n",
       " ['eng:dog', 'eng:dog coupling'],\n",
       " ['eng:dog', 'eng:dog crate'],\n",
       " ['eng:dog', 'eng:dog curtain'],\n",
       " ['eng:dog', 'eng:dog daisy'],\n",
       " ['eng:dog', 'eng:dog dander'],\n",
       " ['eng:dog', 'eng:dog dandruff'],\n",
       " ['eng:dog', 'eng:dog days'],\n",
       " ['eng:dog', 'eng:dog diabetes'],\n",
       " ['eng:dog', 'eng:dog dirt'],\n",
       " ['eng:dog', 'eng:dog door'],\n",
       " ['eng:dog', 'eng:dog ear'],\n",
       " ['eng:dog', 'eng:dog eat dog'],\n",
       " ['eng:dog', 'eng:dog excrement'],\n",
       " ['eng:dog', 'eng:dog faeces'],\n",
       " ['eng:dog', 'eng:dog family'],\n",
       " ['eng:dog', 'eng:dog fancier'],\n",
       " ['eng:dog', 'eng:dog fancy'],\n",
       " ['eng:dog', 'eng:dog fancying'],\n",
       " ['eng:dog', 'eng:dog fashion'],\n",
       " ['eng:dog', 'eng:dog feces'],\n",
       " ['eng:dog', 'eng:dog fennel'],\n",
       " ['eng:dog', 'eng:dog figurine'],\n",
       " ['eng:dog', 'eng:dog flap'],\n",
       " ['eng:dog', 'eng:dog flea'],\n",
       " ['eng:dog', 'eng:dog flu'],\n",
       " ['eng:dog', 'eng:dog fly'],\n",
       " ['eng:dog', 'eng:dog food'],\n",
       " ['eng:dog', 'eng:dog fouling'],\n",
       " ['eng:dog', 'eng:dog fox'],\n",
       " ['eng:dog', 'eng:dog groomer'],\n",
       " ['eng:dog', 'eng:dog grooming'],\n",
       " ['eng:dog', 'eng:dog hair'],\n",
       " ['eng:dog', 'eng:dog handler'],\n",
       " ['eng:dog', 'eng:dog harness'],\n",
       " ['eng:dog', 'eng:dog hook'],\n",
       " ['eng:dog', 'eng:dog house', 'eng:dog houses'],\n",
       " ['eng:dog', 'eng:dog house', 'eng:doghouse', 'eng:doghouses'],\n",
       " ['eng:dog', 'eng:dog house', 'eng:doghouse', 'eng:in the doghouse'],\n",
       " ['eng:dog', 'eng:dog hutch'],\n",
       " ['eng:dog', 'eng:dog influenza'],\n",
       " ['eng:dog', 'eng:dog it'],\n",
       " ['eng:dog', 'eng:dog kennel'],\n",
       " ['eng:dog', 'eng:dog killer'],\n",
       " ['eng:dog', 'eng:dog lead'],\n",
       " ['eng:dog', 'eng:dog leash'],\n",
       " ['eng:dog', 'eng:dog licence'],\n",
       " ['eng:dog', 'eng:dog licence disc'],\n",
       " ['eng:dog', 'eng:dog licence fee'],\n",
       " ['eng:dog', 'eng:dog lover'],\n",
       " ['eng:dog', 'eng:dog magazine'],\n",
       " ['eng:dog', 'eng:dog minder'],\n",
       " ['eng:dog', 'eng:dog minding'],\n",
       " ['eng:dog', 'eng:dog muzzle'],\n",
       " ['eng:dog', 'eng:dog my cats'],\n",
       " ['eng:dog', 'eng:dog nail'],\n",
       " ['eng:dog', 'eng:dog owner'],\n",
       " ['eng:dog', 'eng:dog ownership'],\n",
       " ['eng:dog', 'eng:dog pack'],\n",
       " ['eng:dog', 'eng:dog paddle'],\n",
       " ['eng:dog', 'eng:dog park'],\n",
       " ['eng:dog', 'eng:dog parlor'],\n",
       " ['eng:dog', 'eng:dog parlour'],\n",
       " ['eng:dog', 'eng:dog patrol'],\n",
       " ['eng:dog', 'eng:dog pen'],\n",
       " ['eng:dog', 'eng:dog person'],\n",
       " ['eng:dog', 'eng:dog poop'],\n",
       " ['eng:dog', 'eng:dog poop scoop'],\n",
       " ['eng:dog', 'eng:dog pooper scooper'],\n",
       " ['eng:dog', 'eng:dog portrait'],\n",
       " ['eng:dog', 'eng:dog pound'],\n",
       " ['eng:dog', 'eng:dog puppy'],\n",
       " ['eng:dog', 'eng:dog racing'],\n",
       " ['eng:dog', 'eng:dog robber'],\n",
       " ['eng:dog', 'eng:dog run'],\n",
       " ['eng:dog', 'eng:dog salmon'],\n",
       " ['eng:dog', 'eng:dog screw'],\n",
       " ['eng:dog', 'eng:dog shit'],\n",
       " ['eng:dog', 'eng:dog show'],\n",
       " ['eng:dog', 'eng:dog showing'],\n",
       " ['eng:dog', 'eng:dog sitter'],\n",
       " ['eng:dog', 'eng:dog sitting'],\n",
       " ['eng:dog', 'eng:dog skull'],\n",
       " ['eng:dog', 'eng:dog sled'],\n",
       " ['eng:dog', 'eng:dog sledder'],\n",
       " ['eng:dog', 'eng:dog sledding'],\n",
       " ['eng:dog', 'eng:dog sledge'],\n",
       " ['eng:dog', 'eng:dog sleigh'],\n",
       " ['eng:dog', \"eng:dog somebody's steps\"],\n",
       " ['eng:dog', 'eng:dog speak'],\n",
       " ['eng:dog', 'eng:dog spike'],\n",
       " ['eng:dog', 'eng:dog sport'],\n",
       " ['eng:dog', 'eng:dog tag', 'eng:dog tags'],\n",
       " ['eng:dog', 'eng:dog tapeworm'],\n",
       " ['eng:dog', 'eng:dog tax'],\n",
       " ['eng:dog', 'eng:dog team'],\n",
       " ['eng:dog', 'eng:dog tick'],\n",
       " ['eng:dog', 'eng:dog tooth'],\n",
       " ['eng:dog', 'eng:dog track'],\n",
       " ['eng:dog', 'eng:dog train'],\n",
       " ['eng:dog', 'eng:dog trainer'],\n",
       " ['eng:dog', 'eng:dog training'],\n",
       " ['eng:dog', 'eng:dog training school'],\n",
       " ['eng:dog', 'eng:dog treat'],\n",
       " ['eng:dog', 'eng:dog treats'],\n",
       " ['eng:dog', 'eng:dog tucker'],\n",
       " ['eng:dog', 'eng:dog turd'],\n",
       " ['eng:dog', 'eng:dog violet'],\n",
       " ['eng:dog', 'eng:dog walk'],\n",
       " ['eng:dog', 'eng:dog walker'],\n",
       " ['eng:dog', 'eng:dog walking'],\n",
       " ['eng:dog', 'eng:dog warden'],\n",
       " ['eng:dog', 'eng:dog watch', 'eng:dog watches'],\n",
       " ['eng:dog', 'eng:dog whelk'],\n",
       " ['eng:dog', 'eng:dog whisperer'],\n",
       " ['eng:dog', 'eng:dog whistle'],\n",
       " ['eng:dog', 'eng:dog work'],\n",
       " ['eng:dog', 'eng:dog world'],\n",
       " ['eng:dog', 'eng:dog year', 'eng:dog years'],\n",
       " ['eng:dog', \"eng:dog's breakfast\", \"eng:dog's breakfasts\"],\n",
       " ['eng:dog', \"eng:dog's dinner\"],\n",
       " ['eng:dog', \"eng:dog's dirt\"],\n",
       " ['eng:dog', \"eng:dog's disease\"],\n",
       " ['eng:dog', \"eng:dog's ear\"],\n",
       " ['eng:dog', \"eng:dog's letter\"],\n",
       " ['eng:dog', \"eng:dog's life\"],\n",
       " ['eng:dog', \"eng:dog's meat\"],\n",
       " ['eng:dog', \"eng:dog's mercury\"],\n",
       " ['eng:dog', \"eng:dog's mess\"],\n",
       " ['eng:dog', \"eng:dog's muck\"],\n",
       " ['eng:dog', \"eng:dog's muzzle\"],\n",
       " ['eng:dog', \"eng:dog's nose\"],\n",
       " ['eng:dog', \"eng:dog's paw\"],\n",
       " ['eng:dog', \"eng:dog's skull\"],\n",
       " ['eng:dog', \"eng:dog's tail\"],\n",
       " ['eng:dog', \"eng:dog's tongue\"],\n",
       " ['eng:dog', 'eng:dogbane', 'eng:dogbanes'],\n",
       " ['eng:dog', 'eng:dogbane family'],\n",
       " ['eng:dog', 'eng:dogberry', 'eng:dogberries'],\n",
       " ['eng:dog', 'eng:dogberryism'],\n",
       " ['eng:dog', 'eng:dogcart', 'eng:dogcarts'],\n",
       " ['eng:dog', 'eng:dogcatcher', 'eng:dogcatchers'],\n",
       " ['eng:dog', 'eng:dogcatching'],\n",
       " ['eng:dog', 'eng:dogcheap'],\n",
       " ['eng:dog', 'eng:dogdom'],\n",
       " ['eng:dog', 'eng:dogface', 'eng:dogfaces'],\n",
       " ['eng:dog', 'eng:dogfight', 'eng:dogfighter', 'eng:dogfighters'],\n",
       " ['eng:dog', 'eng:dogfight', 'eng:dogfighting'],\n",
       " ['eng:dog', 'eng:dogfight', 'eng:dogfights'],\n",
       " ['eng:dog', 'eng:dogfight', 'eng:dogfought'],\n",
       " ['eng:dog', 'eng:dogfish', 'eng:chain dogfish'],\n",
       " ['eng:dog', 'eng:dogfish', 'eng:dogfishes'],\n",
       " ['eng:dog', 'eng:dogfish', 'eng:lesser spotted dogfish'],\n",
       " ['eng:dog', 'eng:dogfish', 'eng:longsnout dogfish'],\n",
       " ['eng:dog', 'eng:dogfish', 'eng:prickly dogfish'],\n",
       " ['eng:dog', 'eng:dogfish', 'eng:roughskin dogfish'],\n",
       " ['eng:dog', 'eng:dogfish', 'eng:shortnose velvet dogfish'],\n",
       " ['eng:dog', 'eng:dogfish', 'eng:smooth dogfish'],\n",
       " ['eng:dog', 'eng:dogfish', 'eng:spiney dogfish'],\n",
       " ['eng:dog', 'eng:dogfood', 'eng:dogfooded'],\n",
       " ['eng:dog', 'eng:dogfood', 'eng:dogfooding'],\n",
       " ['eng:dog', 'eng:dogfood', 'eng:dogfoods'],\n",
       " ['eng:dog', 'eng:dogfought'],\n",
       " ['eng:dog', 'eng:dogged', 'eng:doggedly'],\n",
       " ['eng:dog', 'eng:dogged', 'eng:doggedness'],\n",
       " ['eng:dog', 'eng:dogged', 'eng:doggedly'],\n",
       " ['eng:dog', 'eng:dogged', 'eng:doggedness'],\n",
       " ['eng:dog', 'eng:dogged it'],\n",
       " ['eng:dog', 'eng:doggedly'],\n",
       " ['eng:dog', 'eng:doggedness'],\n",
       " ['eng:dog', 'eng:dogger', 'eng:doggerman', 'eng:doggermen'],\n",
       " ['eng:dog', 'eng:dogger', 'eng:doggers'],\n",
       " ['eng:dog', 'eng:doggerel', 'eng:doggerels'],\n",
       " ['eng:dog', 'eng:doggerel rhyme'],\n",
       " ['eng:dog', 'eng:doggerel verse'],\n",
       " ['eng:dog', 'eng:doggery', 'eng:doggeries'],\n",
       " ['eng:dog', 'eng:doggie', 'eng:doggies'],\n",
       " ['eng:dog', 'eng:doggie do'],\n",
       " ['eng:dog', 'eng:doggie door'],\n",
       " ['eng:dog', 'eng:doggie paddle'],\n",
       " ['eng:dog', 'eng:doggie position'],\n",
       " ['eng:dog', 'eng:doggier'],\n",
       " ['eng:dog', 'eng:doggiest'],\n",
       " ['eng:dog', 'eng:dogging', 'eng:doggings'],\n",
       " ['eng:dog', 'eng:doggish', 'eng:doggishly'],\n",
       " ['eng:dog', 'eng:doggish', 'eng:doggishness'],\n",
       " ['eng:dog', 'eng:doggish', 'eng:doggishly'],\n",
       " ['eng:dog', 'eng:doggish', 'eng:doggishness'],\n",
       " ['eng:dog', 'eng:doggishly'],\n",
       " ['eng:dog', 'eng:doggishness'],\n",
       " ['eng:dog', 'eng:doggone'],\n",
       " ['eng:dog', 'eng:doggoned'],\n",
       " ['eng:dog', 'eng:doggonedest'],\n",
       " ['eng:dog', 'eng:doggrel'],\n",
       " ['eng:dog', 'eng:doggy', 'eng:doggily'],\n",
       " ['eng:dog', 'eng:doggy', 'eng:dogginess'],\n",
       " ['eng:dog', 'eng:doggy', 'eng:doggier'],\n",
       " ['eng:dog', 'eng:doggy', 'eng:doggies'],\n",
       " ['eng:dog', 'eng:doggy', 'eng:doggiest'],\n",
       " ['eng:dog', 'eng:doggy bag', 'eng:doggy bags'],\n",
       " ['eng:dog', 'eng:doggy door'],\n",
       " ['eng:dog', 'eng:doggy paddle'],\n",
       " ['eng:dog', 'eng:doggy person'],\n",
       " ['eng:dog', 'eng:doggystyle'],\n",
       " ['eng:dog', 'eng:doggystyle position'],\n",
       " ['eng:dog', 'eng:doghead', 'eng:dogheads'],\n",
       " ['eng:dog', 'eng:doghouse', 'eng:doghouses'],\n",
       " ['eng:dog', 'eng:doghouse', 'eng:in the doghouse'],\n",
       " ['eng:dog', 'eng:dogiron'],\n",
       " ['eng:dog', 'eng:dogleg', 'eng:doglegged'],\n",
       " ['eng:dog', 'eng:dogleg', 'eng:doglegging'],\n",
       " ['eng:dog', 'eng:dogleg', 'eng:doglegs'],\n",
       " ['eng:dog', 'eng:dogleg fence'],\n",
       " ['eng:dog', 'eng:dogleg jack'],\n",
       " ['eng:dog', 'eng:doglegged'],\n",
       " ['eng:dog', 'eng:doglegging'],\n",
       " ['eng:dog', 'eng:dogless', 'eng:doglessly'],\n",
       " ['eng:dog', 'eng:dogless', 'eng:doglessness'],\n",
       " ['eng:dog', 'eng:dogless', 'eng:doglessly'],\n",
       " ['eng:dog', 'eng:dogless', 'eng:doglessness'],\n",
       " ['eng:dog', 'eng:doglike', 'eng:undoglike'],\n",
       " ['eng:dog', 'eng:doglike devotion'],\n",
       " ['eng:dog', 'eng:dogling'],\n",
       " ['eng:dog', 'eng:dogly'],\n",
       " ['eng:dog', 'eng:dognap', 'eng:dognapped'],\n",
       " ['eng:dog', 'eng:dognap', 'eng:dognaps'],\n",
       " ['eng:dog', 'eng:dognaped'],\n",
       " ['eng:dog', 'eng:dognaper'],\n",
       " ['eng:dog', 'eng:dognaping'],\n",
       " ['eng:dog', 'eng:dognapped'],\n",
       " ['eng:dog', 'eng:dognapper', 'eng:dognappers'],\n",
       " ['eng:dog', 'eng:dognapping', 'eng:dognappings'],\n",
       " ['eng:dog', 'eng:dognaps'],\n",
       " ['eng:dog', 'eng:dogpaddle'],\n",
       " ['eng:dog', 'eng:dogpaddling'],\n",
       " ['eng:dog', 'eng:dogpile', 'eng:dogpiled'],\n",
       " ['eng:dog', 'eng:dogpile', 'eng:dogpiles'],\n",
       " ['eng:dog', 'eng:dogpile', 'eng:dogpiling'],\n",
       " ['eng:dog', 'eng:dogpoor'],\n",
       " ['eng:dog', 'eng:dogrel'],\n",
       " ['eng:dog', 'eng:dogs'],\n",
       " ['eng:dog', 'eng:dogsbodied'],\n",
       " ['eng:dog', 'eng:dogsbodies'],\n",
       " ['eng:dog', 'eng:dogsbody', 'eng:dogsbodied'],\n",
       " ['eng:dog', 'eng:dogsbody', 'eng:dogsbodies'],\n",
       " ['eng:dog', 'eng:dogsbody', 'eng:dogsbodying'],\n",
       " ['eng:dog', 'eng:dogsbodying'],\n",
       " ['eng:dog', 'eng:dogshit'],\n",
       " ['eng:dog', 'eng:dogshore', 'eng:dogshores'],\n",
       " ['eng:dog', 'eng:dogsitter', 'eng:dogsitters'],\n",
       " ['eng:dog', 'eng:dogsitting'],\n",
       " ['eng:dog', 'eng:dogsled', 'eng:dogsledded'],\n",
       " ['eng:dog', 'eng:dogsled', 'eng:dogsledding'],\n",
       " ['eng:dog', 'eng:dogsled', 'eng:dogsleds'],\n",
       " ['eng:dog', 'eng:dogsledder'],\n",
       " ['eng:dog', 'eng:dogsledding'],\n",
       " ['eng:dog', 'eng:dogtooth', 'eng:dogteeth'],\n",
       " ['eng:dog', 'eng:dogtooth', 'eng:dogtooth spar'],\n",
       " ['eng:dog', 'eng:dogtooth', 'eng:dogtooth violet'],\n",
       " ['eng:dog', 'eng:dogtooth check'],\n",
       " ['eng:dog', 'eng:dogtooth violet'],\n",
       " ['eng:dog', 'eng:dogtrot', 'eng:dogtrots'],\n",
       " ['eng:dog', 'eng:dogtrot', 'eng:dogtrotted'],\n",
       " ['eng:dog', 'eng:dogtrot', 'eng:dogtrotting'],\n",
       " ['eng:dog', 'eng:dogvane', 'eng:dogvanes'],\n",
       " ['eng:dog', 'eng:dogwalker', 'eng:dogwalkers'],\n",
       " ['eng:dog', 'eng:dogwalking'],\n",
       " ['eng:dog', 'eng:dogwash', 'eng:dogwashes'],\n",
       " ['eng:dog', 'eng:dogwatch', 'eng:dogwatches'],\n",
       " ['eng:dog', 'eng:dogwhip', 'eng:dogwhipped'],\n",
       " ['eng:dog', 'eng:dogwhip', 'eng:dogwhipping'],\n",
       " ['eng:dog', 'eng:dogwhip', 'eng:dogwhips'],\n",
       " ['eng:dog', 'eng:dogwood', 'eng:dogwoods'],\n",
       " ['eng:dog', 'eng:dogwood family'],\n",
       " ['eng:dog', 'eng:dogwood winter'],\n",
       " ['eng:dog', 'eng:domestic dog'],\n",
       " ['eng:dog', 'eng:domesticated dog'],\n",
       " ['eng:dog', 'eng:double dog dare'],\n",
       " ['eng:dog', 'eng:feral dog'],\n",
       " ['eng:dog', 'eng:fire dog'],\n",
       " ['eng:dog', 'eng:firedog', 'eng:firedogs'],\n",
       " ['eng:dog', 'eng:fogdog', 'eng:fogdogs'],\n",
       " ['eng:dog', 'eng:guard dog', 'eng:guard dogs'],\n",
       " ['eng:dog', 'eng:guide dog', 'eng:guide dogs'],\n",
       " ['eng:dog', 'eng:gun dog', 'eng:gun dogs'],\n",
       " ['eng:dog', 'eng:hot dog', 'fin:hotsi'],\n",
       " ['eng:dog', 'eng:hot dog', 'eng:hot dogs'],\n",
       " ['eng:dog', 'eng:hotdog', 'eng:slawdog', 'eng:slawdogs'],\n",
       " ['eng:dog', 'eng:hotdog', 'eng:hotdogged'],\n",
       " ['eng:dog', 'eng:hotdog', 'eng:hotdogging'],\n",
       " ['eng:dog', 'eng:hotdog', 'eng:hotdogs'],\n",
       " ['eng:dog', 'eng:hotdog', 'eng:hot dog', 'fin:hotsi'],\n",
       " ['eng:dog', 'eng:hotdog', 'eng:hot dog', 'eng:hot dogs'],\n",
       " ['eng:dog', 'eng:hotdogger'],\n",
       " ['eng:dog', 'eng:house dog'],\n",
       " ['eng:dog', 'eng:hunting dog'],\n",
       " ['eng:dog', 'eng:in the doghouse'],\n",
       " ['eng:dog', 'eng:junkyard dog'],\n",
       " ['eng:dog', 'eng:lap dog'],\n",
       " ['eng:dog', 'eng:lapdog', 'eng:lapdogs'],\n",
       " ['eng:dog', 'eng:lazy dog'],\n",
       " ['eng:dog', 'eng:lead dog'],\n",
       " ['eng:dog', 'eng:lie doggo'],\n",
       " ['eng:dog', 'eng:like a dog'],\n",
       " ['eng:dog', 'eng:little dog'],\n",
       " ['eng:dog', 'eng:lucky dog'],\n",
       " ['eng:dog', 'eng:mad dog'],\n",
       " ['eng:dog', 'eng:mountain dog'],\n",
       " ['eng:dog', 'eng:pedigree dog'],\n",
       " ['eng:dog', 'eng:pet dog'],\n",
       " ['eng:dog', 'eng:police dog', 'eng:police dogs'],\n",
       " ['eng:dog', 'eng:prairie dog', 'eng:prairie dogged'],\n",
       " ['eng:dog', 'eng:prairie dog', 'eng:prairie dogging', 'eng:prairie doggings'],\n",
       " ['eng:dog', 'eng:prairie dog', 'eng:prairie dogs'],\n",
       " ['eng:dog', 'eng:puppy dog'],\n",
       " ['eng:dog', 'eng:puppy dog eyes'],\n",
       " ['eng:dog', 'eng:purebred dog'],\n",
       " ['eng:dog', 'eng:purebreed dog'],\n",
       " ['eng:dog', 'eng:raccoon dog', 'eng:raccoon dogs'],\n",
       " ['eng:dog', 'eng:railroad police dog'],\n",
       " ['eng:dog', 'eng:railway police dog'],\n",
       " ['eng:dog', 'eng:rescue dog', 'eng:rescue dogs'],\n",
       " ['eng:dog', 'eng:sausage dog'],\n",
       " ['eng:dog', 'eng:seadog', 'eng:seadogs'],\n",
       " ['eng:dog', 'eng:service dog'],\n",
       " ['eng:dog', 'eng:sheepdog', 'eng:sheepdogs'],\n",
       " ['eng:dog', 'eng:show dog'],\n",
       " ['eng:dog', 'eng:silk dog'],\n",
       " ['eng:dog', 'eng:sled dog', 'eng:sled dogs'],\n",
       " ['eng:dog', 'eng:sled dog breed'],\n",
       " ['eng:dog', 'eng:sled dog race'],\n",
       " ['eng:dog', 'eng:sled dog racer'],\n",
       " ['eng:dog', 'eng:sled dog racing'],\n",
       " ['eng:dog', 'eng:sly dog'],\n",
       " ['eng:dog', 'eng:smooth dogfish'],\n",
       " ['eng:dog', 'eng:spiny dogfish'],\n",
       " ['eng:dog', 'eng:spotted dogfish'],\n",
       " ['eng:dog', 'eng:stray dog'],\n",
       " ['eng:dog', 'eng:sun dog', 'eng:sun dogs'],\n",
       " ['eng:dog', 'eng:sundog', 'eng:sundogs'],\n",
       " ['eng:dog', 'eng:sundog', 'eng:sun dog', 'eng:sun dogs'],\n",
       " ['eng:dog', 'eng:swing dog'],\n",
       " ['eng:dog', 'eng:the dogs'],\n",
       " ['eng:dog', 'eng:tinned dog'],\n",
       " ['eng:dog', 'eng:top dog', 'eng:top dogs'],\n",
       " ['eng:dog', 'eng:top dog behavior'],\n",
       " ['eng:dog', 'eng:top dog behaviour'],\n",
       " ['eng:dog', 'eng:toy dog', 'eng:toy dogs'],\n",
       " ['eng:dog', 'eng:toy dog breed'],\n",
       " ['eng:dog', 'eng:underdog', 'eng:underdogism'],\n",
       " ['eng:dog', 'eng:underdog', 'eng:underdogs'],\n",
       " ['eng:dog', 'eng:veggie dog', 'eng:veggie dogs'],\n",
       " ['eng:dog', 'eng:war dog'],\n",
       " ['eng:dog', 'eng:water dog', 'eng:water dogs'],\n",
       " ['eng:dog', 'eng:wiener dog', 'eng:wiener dogs'],\n",
       " ['eng:dog', 'eng:wild dog'],\n",
       " ['eng:dog', 'eng:wise old dog'],\n",
       " ['eng:dog', 'eng:working dog', 'eng:working dogs'],\n",
       " ['eng:dog', 'eng:yard dog'],\n",
       " ['eng:dog', 'eng:yellow dog'],\n",
       " ['eng:dog', 'eng:young dog']]"
      ]
     },
     "execution_count": 59,
     "metadata": {},
     "output_type": "execute_result"
    }
   ],
   "source": [
    "recurse_unfold('eng:dog', children_map)"
   ]
  },
  {
   "cell_type": "code",
   "execution_count": 60,
   "metadata": {},
   "outputs": [
    {
     "data": {
      "text/plain": [
       "(2478558,)"
      ]
     },
     "execution_count": 60,
     "metadata": {},
     "output_type": "execute_result"
    }
   ],
   "source": [
    "lang_words = (parents_rel.src_lang + ':' + parents_rel.src_word).values\n",
    "lang_words.shape"
   ]
  },
  {
   "cell_type": "code",
   "execution_count": 61,
   "metadata": {},
   "outputs": [
    {
     "name": "stderr",
     "output_type": "stream",
     "text": [
      "100%|██████████| 2478558/2478558 [08:06<00:00, 5099.16it/s] \n"
     ]
    }
   ],
   "source": [
    "lang_influences = {}\n",
    "\n",
    "for lang_word in tqdm(lang_words):\n",
    "    edges = recurse_unfold(lang_word, parents_map) + recurse_unfold(lang_word, children_map)\n",
    "    \n",
    "    for edge in edges:\n",
    "        lang = edge[0].split(':')[0]\n",
    "\n",
    "        if lang not in lang_influences:\n",
    "            lang_influences[lang] = []\n",
    "\n",
    "        lang_influences[lang].append(edge)"
   ]
  },
  {
   "cell_type": "code",
   "execution_count": 62,
   "metadata": {},
   "outputs": [
    {
     "name": "stderr",
     "output_type": "stream",
     "text": [
      "100%|██████████| 149/149 [00:37<00:00,  4.01it/s]\n"
     ]
    }
   ],
   "source": [
    "lang_influences_ord = { k: sorted(v, key=len, reverse=True) for k, v in tqdm(lang_influences.items()) }"
   ]
  },
  {
   "cell_type": "code",
   "execution_count": 63,
   "metadata": {},
   "outputs": [],
   "source": [
    "n_samples = 50"
   ]
  },
  {
   "cell_type": "code",
   "execution_count": 64,
   "metadata": {},
   "outputs": [
    {
     "name": "stderr",
     "output_type": "stream",
     "text": [
      "100%|██████████| 171/171 [04:34<00:00,  1.61s/it]\n"
     ]
    }
   ],
   "source": [
    "lang_samples = {}\n",
    "\n",
    "for lang in tqdm(langs):\n",
    "    if lang in lang_influences:\n",
    "        top_starters = [lang_word[0].split(':')[1] for lang_word in lang_influences_ord[lang]]\n",
    "\n",
    "        lang_samples[lang] = [top_starters[i] for i in sorted(np.unique(top_starters, return_index=True)[1])][:n_samples]"
   ]
  },
  {
   "cell_type": "code",
   "execution_count": 65,
   "metadata": {},
   "outputs": [],
   "source": [
    "save(lang_samples, 'lang_samples')"
   ]
  },
  {
   "cell_type": "code",
   "execution_count": 66,
   "metadata": {},
   "outputs": [
    {
     "data": {
      "text/plain": [
       "(2473,)"
      ]
     },
     "execution_count": 66,
     "metadata": {},
     "output_type": "execute_result"
    }
   ],
   "source": [
    "relation_groups = relations.groupby(relations.src_lang).apply(lambda x: x.groupby(x.to_lang).src_word.apply(list))\n",
    "relation_groups.shape"
   ]
  },
  {
   "cell_type": "code",
   "execution_count": 67,
   "metadata": {},
   "outputs": [
    {
     "name": "stderr",
     "output_type": "stream",
     "text": [
      "2473it [00:02, 972.44it/s]\n"
     ]
    }
   ],
   "source": [
    "relation_samples = {}\n",
    "\n",
    "for _, (src, to, words) in tqdm(relation_groups.reset_index().iterrows()):\n",
    "    relation = '{}{}'.format(src, to)\n",
    "    relation_samples[relation] = np.random.choice(words, min(n_samples, len(words))).tolist()"
   ]
  },
  {
   "cell_type": "code",
   "execution_count": 68,
   "metadata": {},
   "outputs": [],
   "source": [
    "save(relation_samples, 'relation_samples')"
   ]
  },
  {
   "cell_type": "code",
   "execution_count": null,
   "metadata": {},
   "outputs": [],
   "source": []
  },
  {
   "cell_type": "code",
   "execution_count": null,
   "metadata": {},
   "outputs": [],
   "source": []
  }
 ],
 "metadata": {
  "kernelspec": {
   "display_name": "Python 3",
   "language": "python",
   "name": "python3"
  },
  "language_info": {
   "codemirror_mode": {
    "name": "ipython",
    "version": 3
   },
   "file_extension": ".py",
   "mimetype": "text/x-python",
   "name": "python",
   "nbconvert_exporter": "python",
   "pygments_lexer": "ipython3",
   "version": "3.6.4"
  },
  "varInspector": {
   "cols": {
    "lenName": 16,
    "lenType": 16,
    "lenVar": 40
   },
   "kernels_config": {
    "python": {
     "delete_cmd_postfix": "",
     "delete_cmd_prefix": "del ",
     "library": "var_list.py",
     "varRefreshCmd": "print(var_dic_list())"
    },
    "r": {
     "delete_cmd_postfix": ") ",
     "delete_cmd_prefix": "rm(",
     "library": "var_list.r",
     "varRefreshCmd": "cat(var_dic_list()) "
    }
   },
   "types_to_exclude": [
    "module",
    "function",
    "builtin_function_or_method",
    "instance",
    "_Feature"
   ],
   "window_display": false
  }
 },
 "nbformat": 4,
 "nbformat_minor": 2
}
