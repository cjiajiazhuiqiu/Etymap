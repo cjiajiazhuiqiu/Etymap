{
 "cells": [
  {
   "cell_type": "code",
   "execution_count": 1,
   "metadata": {
    "collapsed": true
   },
   "outputs": [],
   "source": [
    "% run utils.ipynb"
   ]
  },
  {
   "cell_type": "code",
   "execution_count": 4,
   "metadata": {},
   "outputs": [
    {
     "data": {
      "text/html": [
       "<div>\n",
       "<style>\n",
       "    .dataframe thead tr:only-child th {\n",
       "        text-align: right;\n",
       "    }\n",
       "\n",
       "    .dataframe thead th {\n",
       "        text-align: left;\n",
       "    }\n",
       "\n",
       "    .dataframe tbody tr th {\n",
       "        vertical-align: top;\n",
       "    }\n",
       "</style>\n",
       "<table border=\"1\" class=\"dataframe\">\n",
       "  <thead>\n",
       "    <tr style=\"text-align: right;\">\n",
       "      <th></th>\n",
       "      <th>src</th>\n",
       "      <th>rel</th>\n",
       "      <th>to</th>\n",
       "      <th>weight</th>\n",
       "    </tr>\n",
       "  </thead>\n",
       "  <tbody>\n",
       "    <tr>\n",
       "      <th>0</th>\n",
       "      <td>t/xmf/ბულგარულ</td>\n",
       "      <td>rel:means</td>\n",
       "      <td>language/bul</td>\n",
       "      <td>1.187343</td>\n",
       "    </tr>\n",
       "    <tr>\n",
       "      <th>1</th>\n",
       "      <td>t/xmf/ბულგარულ</td>\n",
       "      <td>rel:means</td>\n",
       "      <td>s/n9695620</td>\n",
       "      <td>1.224455</td>\n",
       "    </tr>\n",
       "    <tr>\n",
       "      <th>2</th>\n",
       "      <td>t/xmf/ინგლისურ</td>\n",
       "      <td>rel:means</td>\n",
       "      <td>s/n6155432</td>\n",
       "      <td>0.938639</td>\n",
       "    </tr>\n",
       "    <tr>\n",
       "      <th>3</th>\n",
       "      <td>t/xmf/ინგლისურ</td>\n",
       "      <td>rel:means</td>\n",
       "      <td>s/n6947032</td>\n",
       "      <td>1.220780</td>\n",
       "    </tr>\n",
       "    <tr>\n",
       "      <th>4</th>\n",
       "      <td>t/xmf/ფრანგულ</td>\n",
       "      <td>rel:means</td>\n",
       "      <td>language/fra</td>\n",
       "      <td>1.337511</td>\n",
       "    </tr>\n",
       "  </tbody>\n",
       "</table>\n",
       "</div>"
      ],
      "text/plain": [
       "              src        rel            to    weight\n",
       "0  t/xmf/ბულგარულ  rel:means  language/bul  1.187343\n",
       "1  t/xmf/ბულგარულ  rel:means    s/n9695620  1.224455\n",
       "2  t/xmf/ინგლისურ  rel:means    s/n6155432  0.938639\n",
       "3  t/xmf/ინგლისურ  rel:means    s/n6947032  1.220780\n",
       "4   t/xmf/ფრანგულ  rel:means  language/fra  1.337511"
      ]
     },
     "execution_count": 4,
     "metadata": {},
     "output_type": "execute_result"
    }
   ],
   "source": [
    "df = pd.read_csv('../data/uwn.tsv', sep='\\t', header=None)\n",
    "df.columns = ['src', 'rel', 'to', 'weight']\n",
    "df.head()"
   ]
  },
  {
   "cell_type": "code",
   "execution_count": 31,
   "metadata": {},
   "outputs": [
    {
     "data": {
      "text/html": [
       "<div>\n",
       "<style>\n",
       "    .dataframe thead tr:only-child th {\n",
       "        text-align: right;\n",
       "    }\n",
       "\n",
       "    .dataframe thead th {\n",
       "        text-align: left;\n",
       "    }\n",
       "\n",
       "    .dataframe tbody tr th {\n",
       "        vertical-align: top;\n",
       "    }\n",
       "</style>\n",
       "<table border=\"1\" class=\"dataframe\">\n",
       "  <thead>\n",
       "    <tr style=\"text-align: right;\">\n",
       "      <th></th>\n",
       "      <th>src</th>\n",
       "      <th>to</th>\n",
       "    </tr>\n",
       "  </thead>\n",
       "  <tbody>\n",
       "    <tr>\n",
       "      <th>13</th>\n",
       "      <td>s/n9002814</td>\n",
       "      <td>t/tha/รัสเซีย</td>\n",
       "    </tr>\n",
       "    <tr>\n",
       "      <th>14</th>\n",
       "      <td>s/n9002814</td>\n",
       "      <td>t/tur/Rusya Federasyonu</td>\n",
       "    </tr>\n",
       "    <tr>\n",
       "      <th>15</th>\n",
       "      <td>s/n9002814</td>\n",
       "      <td>t/arb/روسيا</td>\n",
       "    </tr>\n",
       "    <tr>\n",
       "      <th>16</th>\n",
       "      <td>s/n9002814</td>\n",
       "      <td>t/ara/روسيا</td>\n",
       "    </tr>\n",
       "    <tr>\n",
       "      <th>17</th>\n",
       "      <td>s/n9002814</td>\n",
       "      <td>t/vol/Rusän</td>\n",
       "    </tr>\n",
       "  </tbody>\n",
       "</table>\n",
       "</div>"
      ],
      "text/plain": [
       "           src                       to\n",
       "13  s/n9002814            t/tha/รัสเซีย\n",
       "14  s/n9002814  t/tur/Rusya Federasyonu\n",
       "15  s/n9002814              t/arb/روسيا\n",
       "16  s/n9002814              t/ara/روسيا\n",
       "17  s/n9002814              t/vol/Rusän"
      ]
     },
     "execution_count": 31,
     "metadata": {},
     "output_type": "execute_result"
    }
   ],
   "source": [
    "synonyms = df[['src', 'rel', 'to']]\n",
    "synonyms = synonyms[synonyms.rel != 'rel:means']\n",
    "synonyms = synonyms[['src' ,'to']]\n",
    "synonyms.head()"
   ]
  },
  {
   "cell_type": "code",
   "execution_count": 112,
   "metadata": {
    "collapsed": true
   },
   "outputs": [],
   "source": [
    "synonymDict = dict()"
   ]
  },
  {
   "cell_type": "code",
   "execution_count": 113,
   "metadata": {},
   "outputs": [],
   "source": [
    "for triplet in synonyms.values:\n",
    "    tmp = synonymDict.get(triplet[0])\n",
    "    if tmp == None:\n",
    "        tmp = []\n",
    "    parts = triplet[1].split('/')\n",
    "    tmp.append((parts[1], parts[2]))\n",
    "    synonymDict[triplet[0]] = tmp"
   ]
  },
  {
   "cell_type": "code",
   "execution_count": 114,
   "metadata": {
    "collapsed": true
   },
   "outputs": [],
   "source": [
    "out = []"
   ]
  },
  {
   "cell_type": "code",
   "execution_count": 115,
   "metadata": {},
   "outputs": [],
   "source": [
    "for key, value in synonymDict.items():\n",
    "    for synTuple in value:\n",
    "        syns = synonymDict[key].copy()\n",
    "        syns.remove(synTuple)\n",
    "        out.append((synTuple, syns))\n",
    "    "
   ]
  }
 ],
 "metadata": {
  "kernelspec": {
   "display_name": "Python 3",
   "language": "python",
   "name": "python3"
  },
  "language_info": {
   "codemirror_mode": {
    "name": "ipython",
    "version": 3
   },
   "file_extension": ".py",
   "mimetype": "text/x-python",
   "name": "python",
   "nbconvert_exporter": "python",
   "pygments_lexer": "ipython3",
   "version": "3.6.3"
  }
 },
 "nbformat": 4,
 "nbformat_minor": 2
}
