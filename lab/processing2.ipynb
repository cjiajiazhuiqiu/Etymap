{
 "cells": [
  {
   "cell_type": "code",
   "execution_count": 1,
   "metadata": {},
   "outputs": [],
   "source": [
    "% run utils.ipynb\n",
    "import json"
   ]
  },
  {
   "cell_type": "code",
   "execution_count": 2,
   "metadata": {},
   "outputs": [
    {
     "data": {
      "text/plain": [
       "(247, 19)"
      ]
     },
     "execution_count": 2,
     "metadata": {},
     "output_type": "execute_result"
    }
   ],
   "source": [
    "countries = pd.read_csv('../data/countries.csv')\n",
    "countries = countries[~countries.languages.isnull()]\n",
    "countries.shape"
   ]
  },
  {
   "cell_type": "code",
   "execution_count": 3,
   "metadata": {},
   "outputs": [
    {
     "data": {
      "text/html": [
       "<div>\n",
       "<style scoped>\n",
       "    .dataframe tbody tr th:only-of-type {\n",
       "        vertical-align: middle;\n",
       "    }\n",
       "\n",
       "    .dataframe tbody tr th {\n",
       "        vertical-align: top;\n",
       "    }\n",
       "\n",
       "    .dataframe thead th {\n",
       "        text-align: right;\n",
       "    }\n",
       "</style>\n",
       "<table border=\"1\" class=\"dataframe\">\n",
       "  <thead>\n",
       "    <tr style=\"text-align: right;\">\n",
       "      <th></th>\n",
       "      <th>name</th>\n",
       "      <th>tld</th>\n",
       "      <th>cca2</th>\n",
       "      <th>ccn3</th>\n",
       "      <th>cca3</th>\n",
       "      <th>cioc</th>\n",
       "      <th>currency</th>\n",
       "      <th>callingCode</th>\n",
       "      <th>capital</th>\n",
       "      <th>altSpellings</th>\n",
       "      <th>region</th>\n",
       "      <th>subregion</th>\n",
       "      <th>languages</th>\n",
       "      <th>translations</th>\n",
       "      <th>latlng</th>\n",
       "      <th>demonym</th>\n",
       "      <th>landlocked</th>\n",
       "      <th>borders</th>\n",
       "      <th>area</th>\n",
       "    </tr>\n",
       "  </thead>\n",
       "  <tbody>\n",
       "    <tr>\n",
       "      <th>0</th>\n",
       "      <td>Aruba,Aruba,Aruba,Aruba,Aruba,Aruba</td>\n",
       "      <td>.aw</td>\n",
       "      <td>AW</td>\n",
       "      <td>533.0</td>\n",
       "      <td>ABW</td>\n",
       "      <td>ARU</td>\n",
       "      <td>AWG</td>\n",
       "      <td>297</td>\n",
       "      <td>Oranjestad</td>\n",
       "      <td>AW</td>\n",
       "      <td>Americas</td>\n",
       "      <td>Caribbean</td>\n",
       "      <td>Dutch,Papiamento</td>\n",
       "      <td>Aruba,Aruba,Aruba,Aruba,Aruba,Aruba,Aruba,Arub...</td>\n",
       "      <td>12.5,-69.96666666</td>\n",
       "      <td>Aruban</td>\n",
       "      <td>NaN</td>\n",
       "      <td>NaN</td>\n",
       "      <td>180.0</td>\n",
       "    </tr>\n",
       "    <tr>\n",
       "      <th>1</th>\n",
       "      <td>Afghanistan,Islamic Republic of Afghanistan,جم...</td>\n",
       "      <td>.af</td>\n",
       "      <td>AF</td>\n",
       "      <td>4.0</td>\n",
       "      <td>AFG</td>\n",
       "      <td>AFG</td>\n",
       "      <td>AFN</td>\n",
       "      <td>93</td>\n",
       "      <td>Kabul</td>\n",
       "      <td>AF,Afġānistān</td>\n",
       "      <td>Asia</td>\n",
       "      <td>Southern Asia</td>\n",
       "      <td>Dari,Pashto,Turkmen</td>\n",
       "      <td>Gweriniaeth Islamaidd Affganistan,Affganistan,...</td>\n",
       "      <td>33,65</td>\n",
       "      <td>Afghan</td>\n",
       "      <td>1.0</td>\n",
       "      <td>IRN,PAK,TKM,UZB,TJK,CHN</td>\n",
       "      <td>652230.0</td>\n",
       "    </tr>\n",
       "    <tr>\n",
       "      <th>2</th>\n",
       "      <td>Angola,Republic of Angola,República de Angola,...</td>\n",
       "      <td>.ao</td>\n",
       "      <td>AO</td>\n",
       "      <td>24.0</td>\n",
       "      <td>AGO</td>\n",
       "      <td>ANG</td>\n",
       "      <td>AOA</td>\n",
       "      <td>244</td>\n",
       "      <td>Luanda</td>\n",
       "      <td>AO,República de Angola,ʁɛpublika de an'ɡɔla</td>\n",
       "      <td>Africa</td>\n",
       "      <td>Middle Africa</td>\n",
       "      <td>Portuguese</td>\n",
       "      <td>Gweriniaeth Angola,Angola,Republik Angola,Ango...</td>\n",
       "      <td>-12.5,18.5</td>\n",
       "      <td>Angolan</td>\n",
       "      <td>NaN</td>\n",
       "      <td>COG,COD,ZMB,NAM</td>\n",
       "      <td>1246700.0</td>\n",
       "    </tr>\n",
       "    <tr>\n",
       "      <th>3</th>\n",
       "      <td>Anguilla,Anguilla,Anguilla,Anguilla</td>\n",
       "      <td>.ai</td>\n",
       "      <td>AI</td>\n",
       "      <td>660.0</td>\n",
       "      <td>AIA</td>\n",
       "      <td>NaN</td>\n",
       "      <td>XCD</td>\n",
       "      <td>1264</td>\n",
       "      <td>The Valley</td>\n",
       "      <td>AI</td>\n",
       "      <td>Americas</td>\n",
       "      <td>Caribbean</td>\n",
       "      <td>English</td>\n",
       "      <td>Anguilla,Anguilla,Anguilla,Anguilla,Anguilla,A...</td>\n",
       "      <td>18.25,-63.16666666</td>\n",
       "      <td>Anguillian</td>\n",
       "      <td>NaN</td>\n",
       "      <td>NaN</td>\n",
       "      <td>91.0</td>\n",
       "    </tr>\n",
       "    <tr>\n",
       "      <th>4</th>\n",
       "      <td>Åland Islands,Åland Islands,Landskapet Åland,Å...</td>\n",
       "      <td>.ax</td>\n",
       "      <td>AX</td>\n",
       "      <td>248.0</td>\n",
       "      <td>ALA</td>\n",
       "      <td>NaN</td>\n",
       "      <td>EUR</td>\n",
       "      <td>358</td>\n",
       "      <td>Mariehamn</td>\n",
       "      <td>AX,Aaland,Aland,Ahvenanmaa</td>\n",
       "      <td>Europe</td>\n",
       "      <td>Northern Europe</td>\n",
       "      <td>Swedish</td>\n",
       "      <td>Åland-Inseln,Åland,Ahvenanmaa,Ahvenanmaa,Aland...</td>\n",
       "      <td>60.116667,19.9</td>\n",
       "      <td>Ålandish</td>\n",
       "      <td>NaN</td>\n",
       "      <td>NaN</td>\n",
       "      <td>1580.0</td>\n",
       "    </tr>\n",
       "  </tbody>\n",
       "</table>\n",
       "</div>"
      ],
      "text/plain": [
       "                                                name  tld cca2   ccn3 cca3  \\\n",
       "0                Aruba,Aruba,Aruba,Aruba,Aruba,Aruba  .aw   AW  533.0  ABW   \n",
       "1  Afghanistan,Islamic Republic of Afghanistan,جم...  .af   AF    4.0  AFG   \n",
       "2  Angola,Republic of Angola,República de Angola,...  .ao   AO   24.0  AGO   \n",
       "3                Anguilla,Anguilla,Anguilla,Anguilla  .ai   AI  660.0  AIA   \n",
       "4  Åland Islands,Åland Islands,Landskapet Åland,Å...  .ax   AX  248.0  ALA   \n",
       "\n",
       "  cioc currency callingCode     capital  \\\n",
       "0  ARU      AWG         297  Oranjestad   \n",
       "1  AFG      AFN          93       Kabul   \n",
       "2  ANG      AOA         244      Luanda   \n",
       "3  NaN      XCD        1264  The Valley   \n",
       "4  NaN      EUR         358   Mariehamn   \n",
       "\n",
       "                                  altSpellings    region        subregion  \\\n",
       "0                                           AW  Americas        Caribbean   \n",
       "1                                AF,Afġānistān      Asia    Southern Asia   \n",
       "2  AO,República de Angola,ʁɛpublika de an'ɡɔla    Africa    Middle Africa   \n",
       "3                                           AI  Americas        Caribbean   \n",
       "4                   AX,Aaland,Aland,Ahvenanmaa    Europe  Northern Europe   \n",
       "\n",
       "             languages                                       translations  \\\n",
       "0     Dutch,Papiamento  Aruba,Aruba,Aruba,Aruba,Aruba,Aruba,Aruba,Arub...   \n",
       "1  Dari,Pashto,Turkmen  Gweriniaeth Islamaidd Affganistan,Affganistan,...   \n",
       "2           Portuguese  Gweriniaeth Angola,Angola,Republik Angola,Ango...   \n",
       "3              English  Anguilla,Anguilla,Anguilla,Anguilla,Anguilla,A...   \n",
       "4              Swedish  Åland-Inseln,Åland,Ahvenanmaa,Ahvenanmaa,Aland...   \n",
       "\n",
       "               latlng     demonym  landlocked                  borders  \\\n",
       "0   12.5,-69.96666666      Aruban         NaN                      NaN   \n",
       "1               33,65      Afghan         1.0  IRN,PAK,TKM,UZB,TJK,CHN   \n",
       "2          -12.5,18.5     Angolan         NaN          COG,COD,ZMB,NAM   \n",
       "3  18.25,-63.16666666  Anguillian         NaN                      NaN   \n",
       "4      60.116667,19.9    Ålandish         NaN                      NaN   \n",
       "\n",
       "        area  \n",
       "0      180.0  \n",
       "1   652230.0  \n",
       "2  1246700.0  \n",
       "3       91.0  \n",
       "4     1580.0  "
      ]
     },
     "execution_count": 3,
     "metadata": {},
     "output_type": "execute_result"
    }
   ],
   "source": [
    "countries.head()"
   ]
  },
  {
   "cell_type": "code",
   "execution_count": 4,
   "metadata": {},
   "outputs": [],
   "source": [
    "with open('../data/out.lang_network.json', 'r') as f:\n",
    "    lang_network = json.load(f)"
   ]
  },
  {
   "cell_type": "code",
   "execution_count": 5,
   "metadata": {},
   "outputs": [
    {
     "data": {
      "text/html": [
       "<div>\n",
       "<style scoped>\n",
       "    .dataframe tbody tr th:only-of-type {\n",
       "        vertical-align: middle;\n",
       "    }\n",
       "\n",
       "    .dataframe tbody tr th {\n",
       "        vertical-align: top;\n",
       "    }\n",
       "\n",
       "    .dataframe thead th {\n",
       "        text-align: right;\n",
       "    }\n",
       "</style>\n",
       "<table border=\"1\" class=\"dataframe\">\n",
       "  <thead>\n",
       "    <tr style=\"text-align: right;\">\n",
       "      <th></th>\n",
       "      <th>name</th>\n",
       "      <th>level</th>\n",
       "      <th>latitude</th>\n",
       "      <th>longitude</th>\n",
       "    </tr>\n",
       "  </thead>\n",
       "  <tbody>\n",
       "    <tr>\n",
       "      <th>aae</th>\n",
       "      <td>Arbëreshë Albanian</td>\n",
       "      <td>language</td>\n",
       "      <td>38.9110</td>\n",
       "      <td>16.71640</td>\n",
       "    </tr>\n",
       "    <tr>\n",
       "      <th>aao</th>\n",
       "      <td>Algerian Saharan Arabic</td>\n",
       "      <td>language</td>\n",
       "      <td>20.8884</td>\n",
       "      <td>4.80626</td>\n",
       "    </tr>\n",
       "    <tr>\n",
       "      <th>afr</th>\n",
       "      <td>Afrikaans</td>\n",
       "      <td>language</td>\n",
       "      <td>-22.0000</td>\n",
       "      <td>30.00000</td>\n",
       "    </tr>\n",
       "    <tr>\n",
       "      <th>aii</th>\n",
       "      <td>Assyrian Neo-Aramaic</td>\n",
       "      <td>language</td>\n",
       "      <td>36.7500</td>\n",
       "      <td>43.00000</td>\n",
       "    </tr>\n",
       "    <tr>\n",
       "      <th>akk</th>\n",
       "      <td>Akkadian</td>\n",
       "      <td>language</td>\n",
       "      <td>34.5000</td>\n",
       "      <td>41.00000</td>\n",
       "    </tr>\n",
       "  </tbody>\n",
       "</table>\n",
       "</div>"
      ],
      "text/plain": [
       "                        name     level  latitude  longitude\n",
       "aae       Arbëreshë Albanian  language   38.9110   16.71640\n",
       "aao  Algerian Saharan Arabic  language   20.8884    4.80626\n",
       "afr                Afrikaans  language  -22.0000   30.00000\n",
       "aii     Assyrian Neo-Aramaic  language   36.7500   43.00000\n",
       "akk                 Akkadian  language   34.5000   41.00000"
      ]
     },
     "execution_count": 5,
     "metadata": {},
     "output_type": "execute_result"
    }
   ],
   "source": [
    "lang_locations = pd.DataFrame.from_dict(lang_network['locations'], 'index')\n",
    "lang_locations.head()"
   ]
  },
  {
   "cell_type": "code",
   "execution_count": 6,
   "metadata": {},
   "outputs": [
    {
     "name": "stderr",
     "output_type": "stream",
     "text": [
      "/usr/local/lib/python3.6/site-packages/ipykernel_launcher.py:4: UserWarning: This pattern has match groups. To actually get the groups, use str.extract.\n",
      "  after removing the cwd from sys.path.\n"
     ]
    }
   ],
   "source": [
    "lang_countries = {}\n",
    "\n",
    "for _, lang in lang_locations.name.items():\n",
    "    cntries = countries[countries.languages.str.contains(lang)].cca3.values\n",
    "    if len(cntries):\n",
    "        lang_countries[lang] = list(cntries)"
   ]
  },
  {
   "cell_type": "code",
   "execution_count": 7,
   "metadata": {},
   "outputs": [],
   "source": [
    "lang_network['spoken'] = lang_countries"
   ]
  },
  {
   "cell_type": "code",
   "execution_count": 8,
   "metadata": {},
   "outputs": [],
   "source": [
    "with open('../data/out.lang_network.json', 'w') as f:\n",
    "    json.dump(lang_network, f, ensure_ascii=False)"
   ]
  },
  {
   "cell_type": "code",
   "execution_count": null,
   "metadata": {},
   "outputs": [],
   "source": []
  },
  {
   "cell_type": "code",
   "execution_count": null,
   "metadata": {},
   "outputs": [],
   "source": []
  }
 ],
 "metadata": {
  "kernelspec": {
   "display_name": "Python 3",
   "language": "python",
   "name": "python3"
  },
  "language_info": {
   "codemirror_mode": {
    "name": "ipython",
    "version": 3
   },
   "file_extension": ".py",
   "mimetype": "text/x-python",
   "name": "python",
   "nbconvert_exporter": "python",
   "pygments_lexer": "ipython3",
   "version": "3.6.4"
  },
  "varInspector": {
   "cols": {
    "lenName": 16,
    "lenType": 16,
    "lenVar": 40
   },
   "kernels_config": {
    "python": {
     "delete_cmd_postfix": "",
     "delete_cmd_prefix": "del ",
     "library": "var_list.py",
     "varRefreshCmd": "print(var_dic_list())"
    },
    "r": {
     "delete_cmd_postfix": ") ",
     "delete_cmd_prefix": "rm(",
     "library": "var_list.r",
     "varRefreshCmd": "cat(var_dic_list()) "
    }
   },
   "types_to_exclude": [
    "module",
    "function",
    "builtin_function_or_method",
    "instance",
    "_Feature"
   ],
   "window_display": false
  }
 },
 "nbformat": 4,
 "nbformat_minor": 2
}
